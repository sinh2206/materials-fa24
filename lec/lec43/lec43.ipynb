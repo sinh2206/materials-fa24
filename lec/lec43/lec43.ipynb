{
 "cells": [
  {
   "cell_type": "code",
   "execution_count": 2,
   "id": "0fe7838d-d4e0-409a-adc8-fa6ce8a08c80",
   "metadata": {},
   "outputs": [],
   "source": [
    "from datascience import *\n",
    "import numpy as np\n",
    "%matplotlib inline\n",
    "import matplotlib.pyplot as plt\n",
    "plt.style.use('fivethirtyeight')"
   ]
  },
  {
   "cell_type": "markdown",
   "id": "a99faf24-f867-4a39-a0b8-834798efc4b3",
   "metadata": {},
   "source": [
    "## Review"
   ]
  },
  {
   "cell_type": "markdown",
   "id": "7832a55c-f60d-464d-9123-a46eeb1360ee",
   "metadata": {},
   "source": [
    "### General questions"
   ]
  },
  {
   "cell_type": "markdown",
   "id": "b1cce20c-e32b-4b99-bef0-3c0cac224091",
   "metadata": {},
   "source": [
    "### Case study: \n",
    "- My favorite songs that I first listened to in 2024!"
   ]
  },
  {
   "cell_type": "code",
   "execution_count": 4,
   "id": "c8ba3b7e-5639-4342-8205-b6358594aa10",
   "metadata": {},
   "outputs": [
    {
     "data": {
      "text/html": [
       "<table border=\"1\" class=\"dataframe\">\n",
       "    <thead>\n",
       "        <tr>\n",
       "            <th>Artist</th> <th>Track</th> <th>Popularity</th> <th>Genre</th> <th>Year</th>\n",
       "        </tr>\n",
       "    </thead>\n",
       "    <tbody>\n",
       "        <tr>\n",
       "            <td>Laura Marling </td> <td> Caroline        </td> <td>52        </td> <td>Folk      </td> <td>Current </td>\n",
       "        </tr>\n",
       "        <tr>\n",
       "            <td>Lucky Daye    </td> <td> That's You      </td> <td>39        </td> <td>R&B       </td> <td>Current </td>\n",
       "        </tr>\n",
       "        <tr>\n",
       "            <td>Mos Def       </td> <td> May-December    </td> <td>36        </td> <td>Hip Hop   </td> <td>Previous</td>\n",
       "        </tr>\n",
       "        <tr>\n",
       "            <td>Chappell Roan </td> <td> Good Luck, Babe!</td> <td>93        </td> <td>Pop       </td> <td>Current </td>\n",
       "        </tr>\n",
       "        <tr>\n",
       "            <td>Little Simz   </td> <td> Far Away        </td> <td>39        </td> <td>Electronic</td> <td>Current </td>\n",
       "        </tr>\n",
       "    </tbody>\n",
       "</table>\n",
       "<p>... (42 rows omitted)</p>"
      ],
      "text/plain": [
       "<IPython.core.display.HTML object>"
      ]
     },
     "metadata": {},
     "output_type": "display_data"
    }
   ],
   "source": [
    "spotify = Table().read_table('spotify.csv')\n",
    "spotify.sample().show(5)"
   ]
  },
  {
   "cell_type": "markdown",
   "id": "1ef67166-5f44-48bc-aacc-365a9b8d1128",
   "metadata": {},
   "source": [
    "#### Discussion"
   ]
  },
  {
   "cell_type": "markdown",
   "id": "044aa6ee-6e8d-4980-b387-fb8d59ce3be1",
   "metadata": {},
   "source": [
    "#### Practice Tasks "
   ]
  },
  {
   "cell_type": "markdown",
   "id": "5b35e5b8-0864-42d6-8109-6a3d83b89548",
   "metadata": {},
   "source": [
    "##### Task 1: Find the artist(s) who have the most songs in my data by creating a table. Then, do the same but for genres."
   ]
  },
  {
   "cell_type": "code",
   "execution_count": null,
   "id": "fa2e1e99-9bd4-478a-b1ad-89e1bb3c17d6",
   "metadata": {},
   "outputs": [],
   "source": []
  },
  {
   "cell_type": "markdown",
   "id": "4ff4330a-786d-4d30-89d8-0b2dbf22a5c6",
   "metadata": {},
   "source": [
    "##### Task 2: Find which genre has the highest average popularity score by creating a table.\n",
    "- Try to make your output only have two columns!"
   ]
  },
  {
   "cell_type": "code",
   "execution_count": null,
   "id": "f8d99368-34ce-4c9b-86b0-9bcbdf21bba2",
   "metadata": {},
   "outputs": [],
   "source": []
  },
  {
   "cell_type": "markdown",
   "id": "7294bd90-72bc-4ede-b6a6-0fccc3bc7b93",
   "metadata": {},
   "source": [
    "##### Task 3 + Review Question: Visualize the distribution of popularity scores.\n",
    "\n",
    "- Give the plot a title which summarizes what you see!"
   ]
  },
  {
   "cell_type": "code",
   "execution_count": null,
   "id": "85706143-ab7d-4171-9990-18f4af87fb03",
   "metadata": {},
   "outputs": [],
   "source": []
  },
  {
   "cell_type": "markdown",
   "id": "d9f9c7bc-2f3e-4e6f-a843-649b564ab66d",
   "metadata": {},
   "source": [
    "##### Task 4: Visualize the distribution of genres. The genre with the most songs should appear first! \n",
    "\n",
    "- Give the plot a title which summarizes what you see!"
   ]
  },
  {
   "cell_type": "code",
   "execution_count": null,
   "id": "6894cf46-20c1-44a3-9ad3-1bcca8bfeaff",
   "metadata": {},
   "outputs": [],
   "source": []
  },
  {
   "cell_type": "markdown",
   "id": "5486584e-e24c-416e-b7c3-bf7a3bd38b19",
   "metadata": {},
   "source": [
    "#### Question: `group` or `pivot`?"
   ]
  },
  {
   "cell_type": "code",
   "execution_count": null,
   "id": "3d5a8ad9-63ac-4221-a5a0-e20ce9cb8390",
   "metadata": {},
   "outputs": [],
   "source": []
  },
  {
   "cell_type": "markdown",
   "id": "c8803cd5-9dd3-421b-8b53-900414f95d9b",
   "metadata": {},
   "source": [
    "#### Follow-up task: Visualize the distribution of genres, when broken down by year of first release (current or previous)."
   ]
  },
  {
   "cell_type": "code",
   "execution_count": null,
   "id": "423b8d96-ba7a-4f36-bf43-8b4d05933802",
   "metadata": {},
   "outputs": [],
   "source": []
  }
 ],
 "metadata": {
  "kernelspec": {
   "display_name": "Python 3 (ipykernel)",
   "language": "python",
   "name": "python3"
  },
  "language_info": {
   "codemirror_mode": {
    "name": "ipython",
    "version": 3
   },
   "file_extension": ".py",
   "mimetype": "text/x-python",
   "name": "python",
   "nbconvert_exporter": "python",
   "pygments_lexer": "ipython3",
   "version": "3.12.4"
  }
 },
 "nbformat": 4,
 "nbformat_minor": 5
}
