{
 "cells": [
  {
   "cell_type": "code",
   "execution_count": 1,
   "id": "c7b9ba77",
   "metadata": {
    "deletable": false,
    "editable": false
   },
   "outputs": [],
   "source": [
    "# Initialize Otter\n",
    "import otter\n",
    "grader = otter.Notebook(\"hw10.ipynb\")"
   ]
  },
  {
   "cell_type": "markdown",
   "id": "032c3615",
   "metadata": {},
   "source": [
    "<img src=\"data8logo.png\" alt=\"Data 8 Logo\" style=\"width: 15%; float: right; padding: 1%; margin-right: 2%;\"/>\n",
    "\n",
    "# Homework 10: Linear Regression\n",
    "\n",
    "**Helpful Resource:**\n",
    "\n",
    "- [Python Reference](http://data8.org/fa24/reference/): Cheat sheet of helpful array & table methods used in Data 8!\n",
    "\n",
    "**Recommended Readings**: \n",
    "\n",
    "* [Correlation](https://inferentialthinking.com/chapters/15/1/Correlation.html)\n",
    "* [The Regression Line](https://www.inferentialthinking.com/chapters/15/2/Regression_Line.html)\n",
    "* [Method of Least Squares](https://www.inferentialthinking.com/chapters/15/3/Method_of_Least_Squares.html)\n",
    "* [Least Squares Regression](https://www.inferentialthinking.com/chapters/15/4/Least_Squares_Regression.html)"
   ]
  },
  {
   "attachments": {},
   "cell_type": "markdown",
   "id": "44d0647a",
   "metadata": {},
   "source": [
    "Please complete this notebook by filling in the cells provided. **Before you begin, execute the cell below to setup the notebook by importing some helpful libraries.** Each time you start your server, you will need to execute this cell again.\n",
    "\n",
    "For all problems that you must write explanations and sentences for, you **must** provide your answer in the designated space. Moreover, throughout this homework and all future ones, **please be sure to not re-assign variables throughout the notebook!** For example, if you use `max_temperature` in your answer to one question, do not reassign it later on. Otherwise, you will fail tests that you thought you were passing previously!\n",
    "\n",
    "**Deadline:**\n",
    "\n",
    "This assignment is **due Wednesday, 11/13 at 5:00pm PT**. Submissions after this time will be accepted for 24 hours and will incur a 20% penalty. Any submissions later than this 24 hour period will not be accepted unless an extension has been granted as per the [policies](http://data8.org/fa24/policies/) page. Turn it in by Tuesday, 11/12 at 5:00pm PT for 5 extra credit points.\n",
    "\n",
    "<span style=\"color:red\">**Note: This homework has hidden tests on it. That means even though tests may say 100% passed, it doesn't mean your final grade will be 100%. We will be running more tests for correctness once everyone turns in the homework.**</span>\n",
    "\n",
    "Directly sharing answers is not okay, but discussing problems with the course staff or with other students is encouraged. Refer to the [policies](http://data8.org/fa24/policies/#learning-cooperatively) page to learn more about how to learn cooperatively.\n",
    "\n",
    "You should start early so that you have time to get help if you're stuck. Office hours are held Monday through Friday in [Warren Hall](https://www.berkeley.edu/map?warren) 101B. The office hours schedule appears [here](http://data8.org/fa24/officehours/)."
   ]
  },
  {
   "cell_type": "markdown",
   "id": "3b94911b",
   "metadata": {},
   "source": [
    "---\n",
    "\n",
    "The point breakdown for this assignment is given in the table below:\n",
    "| Category | Points |\n",
    "| --- | --- |\n",
    "| Autograder (Coding questions) | 56 |\n",
    "| Written | 44 |\n",
    "| **Total** | 100 |"
   ]
  },
  {
   "cell_type": "code",
   "execution_count": 2,
   "id": "c066111a",
   "metadata": {},
   "outputs": [],
   "source": [
    "# Run this cell to set up the notebook, but please don't change it.\n",
    "\n",
    "import numpy as np\n",
    "from datascience import * \n",
    "\n",
    "# These lines do some fancy plotting magic.\n",
    "import matplotlib\n",
    "%matplotlib inline\n",
    "import matplotlib.pyplot as plt\n",
    "plt.style.use('fivethirtyeight')\n",
    "import warnings\n",
    "warnings.simplefilter('ignore', FutureWarning)\n",
    "from datetime import datetime"
   ]
  },
  {
   "attachments": {},
   "cell_type": "markdown",
   "id": "3711929e",
   "metadata": {},
   "source": [
    "<hr style=\"border: 5px solid #003262;\" />\n",
    "<hr style=\"border: 1px solid #fdb515;\" />\n",
    "\n",
    "## 1. Linear Regression Setup"
   ]
  },
  {
   "attachments": {},
   "cell_type": "markdown",
   "id": "458092a5",
   "metadata": {},
   "source": [
    "When performing linear regression, we need to compute several important quantities which will be used throughout our analysis. **Unless otherwise specified when asked to make a prediction please assume we are predicting y from x throughout this assignment.** To help with our later analysis, we will begin by writing some of these functions and understanding what they can do for us."
   ]
  },
  {
   "cell_type": "markdown",
   "id": "1650768f",
   "metadata": {},
   "source": [
    "---\n",
    "\n",
    "**Question 1.1.** Define a function `standard_units` that converts a given array to standard units. **(3 points)**\n",
    "\n",
    "*Hint:* You may find the `np.mean` and `np.std` functions helpful.\n"
   ]
  },
  {
   "cell_type": "code",
   "execution_count": 3,
   "id": "2031de00",
   "metadata": {
    "tags": []
   },
   "outputs": [],
   "source": [
    "def standard_units(data):\n",
    "    return (data - np.mean(data)) / np.std(data)"
   ]
  },
  {
   "cell_type": "code",
   "execution_count": 4,
   "id": "daf8cce2",
   "metadata": {
    "deletable": false,
    "editable": false
   },
   "outputs": [
    {
     "data": {
      "text/html": [
       "<p><strong><pre style='display: inline;'>q1_1</pre></strong> passed! ✨</p>"
      ],
      "text/plain": [
       "q1_1 results: All test cases passed!"
      ]
     },
     "execution_count": 4,
     "metadata": {},
     "output_type": "execute_result"
    }
   ],
   "source": [
    "grader.check(\"q1_1\")"
   ]
  },
  {
   "cell_type": "markdown",
   "id": "23a7b791",
   "metadata": {},
   "source": [
    "---\n",
    "\n",
    "**Question 1.2.** Which of the following are true about standard units? Assume we have converted an array of data into standard units using the function above. **(5 points)**\n",
    "\n",
    "1. The unit of all our data when converted into standard units is the same as the unit of the original data.\n",
    "2. The sum of all our data when converted into standard units is 0.\n",
    "3. The standard deviation of all our data when converted into standard units is 1.\n",
    "4. Adding a constant, C, to our original data has no impact on the resultant data when converted to standard units.\n",
    "5. Multiplying our original data by a positive constant, C (>0), has no impact on the resultant data when converted to standard units.\n",
    "\n",
    "Assign `standard_array` to an array of your selections, in increasing numerical order. For example, if you wanted to select options 1, 3, and 5,\n",
    "you would assign `standard_array` to `make_array(1, 3, 5)`.\n"
   ]
  },
  {
   "cell_type": "code",
   "execution_count": 10,
   "id": "d6db5b6d",
   "metadata": {
    "tags": []
   },
   "outputs": [],
   "source": [
    "standard_array = make_array(2, 3, 4, 5)\n"
   ]
  },
  {
   "cell_type": "code",
   "execution_count": 9,
   "id": "76c3c1c7",
   "metadata": {
    "deletable": false,
    "editable": false
   },
   "outputs": [
    {
     "data": {
      "text/html": [
       "<p><strong><pre style='display: inline;'>q1_2</pre></strong> passed! ✨</p>"
      ],
      "text/plain": [
       "q1_2 results: All test cases passed!"
      ]
     },
     "execution_count": 9,
     "metadata": {},
     "output_type": "execute_result"
    }
   ],
   "source": [
    "grader.check(\"q1_2\")"
   ]
  },
  {
   "cell_type": "markdown",
   "id": "d5501eef",
   "metadata": {},
   "source": [
    "---\n",
    "\n",
    "**Question 1.3.** Define a function `correlation` that computes the correlation between 2 arrays of data in original units. **(3 points)**\n",
    "\n",
    "*Hint:* Feel free to use functions you have defined previously.\n"
   ]
  },
  {
   "cell_type": "code",
   "execution_count": 11,
   "id": "97f4b238",
   "metadata": {
    "tags": []
   },
   "outputs": [],
   "source": [
    "def correlation(x, y):\n",
    "    x_su = standard_units(x)\n",
    "    y_su = standard_units(y)\n",
    "    return np.mean(x_su * y_su)"
   ]
  },
  {
   "cell_type": "code",
   "execution_count": 12,
   "id": "3fcbac0d",
   "metadata": {
    "deletable": false,
    "editable": false
   },
   "outputs": [
    {
     "data": {
      "text/html": [
       "<p><strong><pre style='display: inline;'>q1_3</pre></strong> passed! 💯</p>"
      ],
      "text/plain": [
       "q1_3 results: All test cases passed!"
      ]
     },
     "execution_count": 12,
     "metadata": {},
     "output_type": "execute_result"
    }
   ],
   "source": [
    "grader.check(\"q1_3\")"
   ]
  },
  {
   "cell_type": "markdown",
   "id": "702027f5",
   "metadata": {},
   "source": [
    "---\n",
    "\n",
    "**Question 1.4.** Which of the following are true about the correlation coefficient $r$? **(5 points)**\n",
    "\n",
    "1. The correlation coefficient measures the strength of a linear relationship.\n",
    "2. When looking at the existing data, a correlation coefficient of 1.0 means an increase in one variable always means an increase in the other variable.\n",
    "3. The correlation coefficient is the slope of the regression line in standard units.\n",
    "4. The correlation coefficient stays the same if we swap our x-axis and y-axis.\n",
    "5. If we add a constant, C, to our original data, our correlation coefficient will increase by the same C.\n",
    "\n",
    "Assign `r_array` to an array of your selections, in increasing numerical order. For example, if you wanted to select options 1, 3, and 5,\n",
    "you would assign `r_array` to `make_array(1, 3, 5)`.\n"
   ]
  },
  {
   "cell_type": "code",
   "execution_count": 13,
   "id": "642d792c",
   "metadata": {
    "tags": []
   },
   "outputs": [],
   "source": [
    "r_array = make_array(1, 2, 3, 4)"
   ]
  },
  {
   "cell_type": "code",
   "execution_count": 14,
   "id": "a6c3de01",
   "metadata": {
    "deletable": false,
    "editable": false
   },
   "outputs": [
    {
     "data": {
      "text/html": [
       "<p><strong><pre style='display: inline;'>q1_4</pre></strong> passed! 🌈</p>"
      ],
      "text/plain": [
       "q1_4 results: All test cases passed!"
      ]
     },
     "execution_count": 14,
     "metadata": {},
     "output_type": "execute_result"
    }
   ],
   "source": [
    "grader.check(\"q1_4\")"
   ]
  },
  {
   "cell_type": "markdown",
   "id": "0d08d7e2",
   "metadata": {},
   "source": [
    "---\n",
    "\n",
    "**Question 1.5.** Define a function `slope` that computes the slope of our line of best fit (to predict y given x), given two arrays of data in original units. Assume we want to create a line of best fit in original units. **(3 points)**\n",
    "\n",
    "*Hint:* Feel free to use functions you have defined previously.\n"
   ]
  },
  {
   "cell_type": "code",
   "execution_count": 15,
   "id": "4820befa",
   "metadata": {
    "tags": []
   },
   "outputs": [],
   "source": [
    "def slope(x, y):\n",
    "    r = correlation(x, y)\n",
    "    return r * (np.std(y) / np.std(x))"
   ]
  },
  {
   "cell_type": "code",
   "execution_count": 16,
   "id": "e3d9a7c8",
   "metadata": {
    "deletable": false,
    "editable": false
   },
   "outputs": [
    {
     "data": {
      "text/html": [
       "<p><strong><pre style='display: inline;'>q1_5</pre></strong> passed! 🙌</p>"
      ],
      "text/plain": [
       "q1_5 results: All test cases passed!"
      ]
     },
     "execution_count": 16,
     "metadata": {},
     "output_type": "execute_result"
    }
   ],
   "source": [
    "grader.check(\"q1_5\")"
   ]
  },
  {
   "cell_type": "markdown",
   "id": "339236c5",
   "metadata": {},
   "source": [
    "---\n",
    "\n",
    "**Question 1.6.** Which of the following are true about the slope of our line of best fit? Assume `x` refers to the value of one variable that we use to predict the value of `y`. **(5 points)**\n",
    "\n",
    "1. In original units, the slope has the unit: unit of x / unit of y.\n",
    "2. In standard units, the slope is unitless.\n",
    "3. In original units, the slope is unchanged by swapping x and y.\n",
    "4. In standard units, a slope of 1 means our data is perfectly linearly correlated.\n",
    "5. In original units and standard units, the slope always has the same positive or negative sign.\n",
    "\n",
    "Assign `slope_array` to an array of your selections, in increasing numerical order. For example, if you wanted to select options 1, 3, and 5,\n",
    "you would assign `slope_array` to `make_array(1, 3, 5)`.\n"
   ]
  },
  {
   "cell_type": "code",
   "execution_count": 17,
   "id": "3388b689",
   "metadata": {
    "tags": []
   },
   "outputs": [],
   "source": [
    "slope_array =  make_array(2, 4, 5)"
   ]
  },
  {
   "cell_type": "code",
   "execution_count": 18,
   "id": "e7a6b6a6",
   "metadata": {
    "deletable": false,
    "editable": false
   },
   "outputs": [
    {
     "data": {
      "text/html": [
       "<p><strong><pre style='display: inline;'>q1_6</pre></strong> passed! 💯</p>"
      ],
      "text/plain": [
       "q1_6 results: All test cases passed!"
      ]
     },
     "execution_count": 18,
     "metadata": {},
     "output_type": "execute_result"
    }
   ],
   "source": [
    "grader.check(\"q1_6\")"
   ]
  },
  {
   "cell_type": "markdown",
   "id": "a3afaf86",
   "metadata": {},
   "source": [
    "---\n",
    "\n",
    "**Question 1.7.** Define a function `intercept` that computes the intercept of our line of best fit (to predict y given x), given 2 arrays of data in original units. Assume we want to create a line of best fit in original units. **(3 points)**\n",
    "\n",
    "*Hint:* Feel free to use functions you have defined previously.\n"
   ]
  },
  {
   "cell_type": "code",
   "execution_count": 19,
   "id": "cb6d5deb",
   "metadata": {
    "tags": []
   },
   "outputs": [],
   "source": [
    "def intercept(x, y):\n",
    "    s = slope(x, y)\n",
    "    return np.mean(y) - s * np.mean(x)"
   ]
  },
  {
   "cell_type": "code",
   "execution_count": 20,
   "id": "51710ed8",
   "metadata": {
    "deletable": false,
    "editable": false
   },
   "outputs": [
    {
     "data": {
      "text/html": [
       "<p><strong><pre style='display: inline;'>q1_7</pre></strong> passed! 🎉</p>"
      ],
      "text/plain": [
       "q1_7 results: All test cases passed!"
      ]
     },
     "execution_count": 20,
     "metadata": {},
     "output_type": "execute_result"
    }
   ],
   "source": [
    "grader.check(\"q1_7\")"
   ]
  },
  {
   "cell_type": "markdown",
   "id": "784b877e",
   "metadata": {},
   "source": [
    "---\n",
    "\n",
    "**Question 1.8.** Which of the following are true about the intercept of our line of best fit? Assume `x` refers to the value of one variable that we use to predict the value of `y`. **(5 points)**\n",
    "\n",
    "1. In original units, the intercept has the same unit as the y values.\n",
    "2. In original units, the intercept has the same unit as the x values.\n",
    "3. In original units, the slope and intercept have the same unit.\n",
    "4. In standard units, the intercept for the regression line is 0.\n",
    "5. In original units and standard units, the intercept always has the same numerical value.\n",
    "\n",
    "Assign `intercept_array` to an array of your selections, in increasing numerical order. For example, if you wanted to select options 1, 3, and 5,\n",
    "you would assign `intercept_array` to `make_array(1, 3, 5)`.\n"
   ]
  },
  {
   "cell_type": "code",
   "execution_count": 21,
   "id": "dec5be36",
   "metadata": {
    "tags": []
   },
   "outputs": [],
   "source": [
    "intercept_array = make_array(1, 4)"
   ]
  },
  {
   "cell_type": "code",
   "execution_count": 22,
   "id": "c10ed23c",
   "metadata": {
    "deletable": false,
    "editable": false
   },
   "outputs": [
    {
     "data": {
      "text/html": [
       "<p><strong><pre style='display: inline;'>q1_8</pre></strong> passed! 🍀</p>"
      ],
      "text/plain": [
       "q1_8 results: All test cases passed!"
      ]
     },
     "execution_count": 22,
     "metadata": {},
     "output_type": "execute_result"
    }
   ],
   "source": [
    "grader.check(\"q1_8\")"
   ]
  },
  {
   "cell_type": "markdown",
   "id": "dfbd2230",
   "metadata": {},
   "source": [
    "---\n",
    "\n",
    "**Question 1.9.** Define a function `predict` that takes in a table and 2 column names, and returns an array of predictions. The predictions should be created using a fitted **regression line**. We are predicting `\"col2\"` from `\"col1\"`, both in original units. **(5 points)**\n",
    "\n",
    "*Hint 1:* Feel free to use functions you have defined previously.\n",
    "\n",
    "*Hint 2:* Re-reading [15.2](https://inferentialthinking.com/chapters/15/2/Regression_Line.html#the-regression-line) might be helpful here.\n",
    "\n",
    "Note: The public tests are quite comprehensive for this question, so passing them means that your function most likely works correctly.\n"
   ]
  },
  {
   "cell_type": "code",
   "execution_count": 23,
   "id": "3513d80b",
   "metadata": {
    "tags": []
   },
   "outputs": [],
   "source": [
    "def predict(tbl, col1, col2):\n",
    "    x = tbl.column(col1)\n",
    "    y = tbl.column(col2)\n",
    "    s = slope(x, y)\n",
    "    inter = intercept(x, y)\n",
    "    return s * x + inter"
   ]
  },
  {
   "cell_type": "code",
   "execution_count": 24,
   "id": "0a27353c",
   "metadata": {
    "deletable": false,
    "editable": false
   },
   "outputs": [
    {
     "data": {
      "text/html": [
       "<p><strong><pre style='display: inline;'>q1_9</pre></strong> passed! 🍀</p>"
      ],
      "text/plain": [
       "q1_9 results: All test cases passed!"
      ]
     },
     "execution_count": 24,
     "metadata": {},
     "output_type": "execute_result"
    }
   ],
   "source": [
    "grader.check(\"q1_9\")"
   ]
  },
  {
   "attachments": {},
   "cell_type": "markdown",
   "id": "81cac628",
   "metadata": {},
   "source": [
    "<hr style=\"border: 5px solid #003262;\" />\n",
    "<hr style=\"border: 1px solid #fdb515;\" />\n",
    "\n",
    "## 2. FIFA Predictions"
   ]
  },
  {
   "attachments": {},
   "cell_type": "markdown",
   "id": "d20e78df",
   "metadata": {},
   "source": [
    "The following data was scraped from [sofifa.com](https://sofifa.com/), a website dedicated to collecting information from FIFA video games. The dataset consists of all players in FIFA 22 and their corresponding attributes. We have truncated the dataset to a limited number of rows (100) to ease with our visualizations and analysis. Since we’re learning about linear regression, we will look specifically for a linear association between various player attributes. **To help with understanding where the line of best fit generated in linear regression comes from please do not use the `.fit_line` argument in `.scatter` at any point on question 2 unless the code was provided for you.**\n",
    "\n",
    "Feel free to read more about the video game on [Wikipedia](https://en.wikipedia.org/wiki/FIFA_22)."
   ]
  },
  {
   "cell_type": "code",
   "execution_count": 25,
   "id": "5956a832",
   "metadata": {},
   "outputs": [
    {
     "data": {
      "text/html": [
       "<table border=\"1\" class=\"dataframe\">\n",
       "    <thead>\n",
       "        <tr>\n",
       "            <th>short_name</th> <th>overall</th> <th>value_eur</th> <th>wage_eur</th> <th>age</th> <th>pace</th> <th>shooting</th> <th>passing</th> <th>attacking_finishing</th>\n",
       "        </tr>\n",
       "    </thead>\n",
       "    <tbody>\n",
       "        <tr>\n",
       "            <td>L. Messi         </td> <td>93     </td> <td>78000000 </td> <td>320000  </td> <td>34  </td> <td>85  </td> <td>92      </td> <td>91     </td> <td>95                 </td>\n",
       "        </tr>\n",
       "        <tr>\n",
       "            <td>R. Lewandowski   </td> <td>92     </td> <td>119500000</td> <td>270000  </td> <td>32  </td> <td>78  </td> <td>92      </td> <td>79     </td> <td>95                 </td>\n",
       "        </tr>\n",
       "        <tr>\n",
       "            <td>Cristiano Ronaldo</td> <td>91     </td> <td>45000000 </td> <td>270000  </td> <td>36  </td> <td>87  </td> <td>94      </td> <td>80     </td> <td>95                 </td>\n",
       "        </tr>\n",
       "        <tr>\n",
       "            <td>Neymar Jr        </td> <td>91     </td> <td>129000000</td> <td>270000  </td> <td>29  </td> <td>91  </td> <td>83      </td> <td>86     </td> <td>83                 </td>\n",
       "        </tr>\n",
       "        <tr>\n",
       "            <td>K. De Bruyne     </td> <td>91     </td> <td>125500000</td> <td>350000  </td> <td>30  </td> <td>76  </td> <td>86      </td> <td>93     </td> <td>82                 </td>\n",
       "        </tr>\n",
       "    </tbody>\n",
       "</table>\n",
       "<p>... (95 rows omitted)</p>"
      ],
      "text/plain": [
       "<IPython.core.display.HTML object>"
      ]
     },
     "metadata": {},
     "output_type": "display_data"
    }
   ],
   "source": [
    "# Run this cell to load the data\n",
    "fifa = Table.read_table('fifa22.csv')\n",
    "\n",
    "# Select a subset of columns to analyze (there are 110 columns in the original dataset)\n",
    "fifa = fifa.select(\"short_name\", \"overall\", \"value_eur\", \"wage_eur\", \"age\", \"pace\", \"shooting\", \"passing\", \"attacking_finishing\")\n",
    "fifa.show(5)"
   ]
  },
  {
   "cell_type": "markdown",
   "id": "69944d0e",
   "metadata": {},
   "source": [
    "<!-- BEGIN QUESTION -->\n",
    "\n",
    "---\n",
    "\n",
    "**Question 2.1.** Before jumping into any statistical techniques, it’s important to see what the data looks like, because data visualizations allow us to uncover patterns in our data that would have otherwise been much more difficult to see. **(3 points)**\n",
    "\n",
    "Create a scatter plot with age on the x-axis (“age”), and the player’s value in Euros (“value_eur”) on the y-axis.\n"
   ]
  },
  {
   "cell_type": "code",
   "execution_count": 26,
   "id": "afcafe12",
   "metadata": {
    "tags": []
   },
   "outputs": [
    {
     "data": {
      "image/png": "[encoded data removed]",
      "text/plain": [
       "<Figure size 500x500 with 1 Axes>"
      ]
     },
     "metadata": {},
     "output_type": "display_data"
    }
   ],
   "source": [
    "fifa.scatter('age', 'value_eur')"
   ]
  },
  {
   "cell_type": "markdown",
   "id": "aaa5175c",
   "metadata": {},
   "source": [
    "<!-- END QUESTION -->\n",
    "\n",
    "---\n",
    "\n",
    "**Question 2.2.** Does the correlation coefficient `r` for the data in our scatter plot in 2.1 look closest to 0, 0.75, or -0.75? **(3 points)**\n",
    "\n",
    "Assign `r_guess` to one of 0, 0.75, or -0.75.\n"
   ]
  },
  {
   "cell_type": "code",
   "execution_count": 27,
   "id": "39387e60",
   "metadata": {
    "tags": []
   },
   "outputs": [],
   "source": [
    "r_guess = 0"
   ]
  },
  {
   "cell_type": "code",
   "execution_count": 28,
   "id": "b2d5226d",
   "metadata": {
    "deletable": false,
    "editable": false
   },
   "outputs": [
    {
     "data": {
      "text/html": [
       "<p><strong><pre style='display: inline;'>q2_2</pre></strong> passed! 🍀</p>"
      ],
      "text/plain": [
       "q2_2 results: All test cases passed!"
      ]
     },
     "execution_count": 28,
     "metadata": {},
     "output_type": "execute_result"
    }
   ],
   "source": [
    "grader.check(\"q2_2\")"
   ]
  },
  {
   "cell_type": "markdown",
   "id": "2049a557",
   "metadata": {},
   "source": [
    "<!-- BEGIN QUESTION -->\n",
    "\n",
    "---\n",
    "\n",
    "**Question 2.3.** Create a scatter plot with player age (\"age\") along the x-axis and both real player value (\"value_eur\") and predicted player value along the y-axis. The predictions should be created using a fitted **regression line**. The color of the dots for the real player values should be different from the color for the predicted player values. **(8 points)**\n",
    "\n",
    "*Hint 1:* Feel free to use functions you have defined previously.\n",
    "\n",
    "*Hint 2:* [15.2](https://inferentialthinking.com/chapters/15/2/Regression_Line.html#) and [7.3](https://inferentialthinking.com/chapters/07/3/Overlaid_Graphs.html#overlaid-scatter-plots) has examples of creating such scatter plots.\n"
   ]
  },
  {
   "cell_type": "code",
   "execution_count": 29,
   "id": "31e2a83c",
   "metadata": {
    "tags": []
   },
   "outputs": [
    {
     "data": {
      "image/png": "[encoded data removed]",
      "text/plain": [
       "<Figure size 500x500 with 1 Axes>"
      ]
     },
     "metadata": {},
     "output_type": "display_data"
    }
   ],
   "source": [
    "# Tính slope và intercept\n",
    "x = fifa.column('age')\n",
    "y = fifa.column('value_eur')\n",
    "slope_val = slope(x, y)\n",
    "intercept_val = intercept(x, y)\n",
    "predictions = slope_val * x + intercept_val\n",
    "\n",
    "# Thêm predictions vào bảng\n",
    "fifa_with_predictions = fifa.with_column('Predicted Value', predictions)\n",
    "\n",
    "# Vẽ biểu đồ\n",
    "fifa_with_predictions.scatter('age', ['value_eur', 'Predicted Value'])"
   ]
  },
  {
   "cell_type": "markdown",
   "id": "d7a8751a",
   "metadata": {},
   "source": [
    "<!-- END QUESTION -->\n",
    "\n",
    "<!-- BEGIN QUESTION -->\n",
    "\n",
    "---\n",
    "\n",
    "**Question 2.4.** Looking at the scatter plot you produced above, is linear regression a good model to use? If so, what features or characteristics make this model reasonable? If not, what features or characteristics make it unreasonable? **(5 points)**\n"
   ]
  },
  {
   "cell_type": "markdown",
   "id": "306fdad4",
   "metadata": {},
   "source": [
    "Linear regression không phải là mô hình tốt vì dữ liệu phân tán rộng, không có mối quan hệ tuyến tính rõ ràng. Điều này dẫn đến RMSE cao và dự đoán kém chính xác."
   ]
  },
  {
   "cell_type": "markdown",
   "id": "7ad55c6f",
   "metadata": {},
   "source": [
    "<!-- END QUESTION -->\n",
    "\n",
    "<!-- BEGIN QUESTION -->\n",
    "\n",
    "---\n",
    "\n",
    "**Question 2.5.** In 2.3, we created a scatter plot **in original units**. Now, create a scatter plot with player age **in standard units** along the x-axis and both real and predicted player value **in standard units** along the y-axis. The color of the dots of the real and predicted values should be different. **(8 points)**\n",
    "\n",
    "*Hint:* Feel free to use functions you have defined previously.\n"
   ]
  },
  {
   "cell_type": "code",
   "execution_count": 30,
   "id": "7f49f1fb",
   "metadata": {
    "tags": []
   },
   "outputs": [
    {
     "data": {
      "image/png": "[encoded data removed]",
      "text/plain": [
       "<Figure size 500x500 with 1 Axes>"
      ]
     },
     "metadata": {},
     "output_type": "display_data"
    }
   ],
   "source": [
    "# Chuyển đổi sang đơn vị chuẩn\n",
    "age_su = standard_units(x)\n",
    "value_su = standard_units(y)\n",
    "predictions_su = correlation(x, y) * age_su  # Hệ số tương quan là slope trong SU\n",
    "\n",
    "# Tạo bảng và vẽ biểu đồ\n",
    "fifa_su = Table().with_columns('Age (SU)', age_su, 'Value (SU)', value_su, 'Predicted (SU)', predictions_su)\n",
    "fifa_su.scatter('Age (SU)', ['Value (SU)', 'Predicted (SU)'])"
   ]
  },
  {
   "cell_type": "markdown",
   "id": "be47f12a",
   "metadata": {},
   "source": [
    "<!-- END QUESTION -->\n",
    "\n",
    "<!-- BEGIN QUESTION -->\n",
    "\n",
    "---\n",
    "\n",
    "**Question 2.6.** Compare your plots in 2.3 and 2.5. What similarities do they share? What differences do they have? **(5 points)**\n"
   ]
  },
  {
   "cell_type": "markdown",
   "id": "a5bd4f81",
   "metadata": {},
   "source": [
    "Cả hai biểu đồ đều có hình dạng phân bố điểm giống nhau, chỉ khác về đơn vị trục. Đường hồi quy trong SU có độ dốc bằng hệ số tương quan và đi qua gốc tọa độ"
   ]
  },
  {
   "cell_type": "markdown",
   "id": "f1197009",
   "metadata": {},
   "source": [
    "<!-- END QUESTION -->\n",
    "\n",
    "---\n",
    "\n",
    "**Question 2.7.** Define a function `rmse` that takes in two arguments: a slope and an intercept for a potential regression line. The function should return the root mean squared error between the values predicted by a regression line with the given slope and intercept and the actual outcomes. **(6 points)**\n",
    "\n",
    "Assume we are still predicting “value_eur” from “age” in original units from the `fifa` table.\n"
   ]
  },
  {
   "cell_type": "code",
   "execution_count": 31,
   "id": "8a4135ef",
   "metadata": {
    "tags": []
   },
   "outputs": [],
   "source": [
    "def rmse(slope, intercept):\n",
    "    predictions = slope * x + intercept\n",
    "    errors = y - predictions\n",
    "    return np.sqrt(np.mean(errors**2))"
   ]
  },
  {
   "cell_type": "code",
   "execution_count": 32,
   "id": "edd84dc1",
   "metadata": {
    "deletable": false,
    "editable": false
   },
   "outputs": [
    {
     "data": {
      "text/html": [
       "<p><strong><pre style='display: inline;'>q2_7</pre></strong> passed! 🌟</p>"
      ],
      "text/plain": [
       "q2_7 results: All test cases passed!"
      ]
     },
     "execution_count": 32,
     "metadata": {},
     "output_type": "execute_result"
    }
   ],
   "source": [
    "grader.check(\"q2_7\")"
   ]
  },
  {
   "cell_type": "markdown",
   "id": "8b95c86b",
   "metadata": {},
   "source": [
    "<!-- BEGIN QUESTION -->\n",
    "\n",
    "---\n",
    "\n",
    "**Question 2.8.** Use the `rmse` function you defined along with `minimize` to find the least-squares regression parameters predicting player value from player age. Here's an [example](https://inferentialthinking.com/chapters/15/3/Method_of_Least_Squares.html#numerical-optimization) of using the `minimize` function from the textbook. **(10 points)**\n",
    "\n",
    "Then set `lsq_slope` and `lsq_intercept` to be the least-squares regression line slope and intercept, respectively.\n",
    "\n",
    "Finally, create a scatter plot like you did in 2.3 with player age (\"age\") along the x-axis and both real player value (\"value_eur\") and predicted player value along the y-axis. **Be sure to use your least-squares regression line to compute the predicted values.** The color of the dots for the real player values should be different from the color for the predicted player values.\n",
    "\n",
    "> **Note:** Your solution should not make any calls to the slope or intercept functions defined earlier.\n",
    "\n",
    "*Hint:* Your call to `minimize` will return an array of argument values that minimize the return value of the function passed to `minimize`."
   ]
  },
  {
   "cell_type": "code",
   "execution_count": 33,
   "id": "cc1f5271",
   "metadata": {
    "tags": []
   },
   "outputs": [
    {
     "data": {
      "image/png": "[encoded data removed]",
      "text/plain": [
       "<Figure size 500x500 with 1 Axes>"
      ]
     },
     "metadata": {},
     "output_type": "display_data"
    }
   ],
   "source": [
    "# Tìm tham số tối ưu\n",
    "minimized_parameters = minimize(rmse, start=[1, 1])\n",
    "lsq_slope = minimized_parameters[0]\n",
    "lsq_intercept = minimized_parameters[1]\n",
    "\n",
    "# Dự đoán và vẽ biểu đồ\n",
    "lsq_predictions = lsq_slope * x + lsq_intercept\n",
    "fifa_with_lsq = fifa.with_column('LSQ Predictions', lsq_predictions)\n",
    "fifa_with_lsq.scatter('age', ['value_eur', 'LSQ Predictions'])"
   ]
  },
  {
   "cell_type": "markdown",
   "id": "91acdb5b",
   "metadata": {},
   "source": [
    "<!-- END QUESTION -->\n",
    "\n",
    "<!-- BEGIN QUESTION -->\n",
    "\n",
    "---\n",
    "\n",
    "**Question 2.9.** The resulting line you found in 2.8 should appear very similar to the line you found in 2.3. Why were we able to minimize RMSE to find nearly the same slope and intercept from the previous formulas? **(5 points)**\n",
    "\n",
    "*Hint:* Re-reading [15.3](https://inferentialthinking.com/chapters/15/3/Method_of_Least_Squares.html#the-least-squares-line) might be helpful here.\n"
   ]
  },
  {
   "cell_type": "markdown",
   "id": "a103b1ae",
   "metadata": {},
   "source": [
    "Công thức slope và intercept được suy ra từ việc tối thiểu hóa tổng bình phương sai số (giống RMSE), nên kết quả từ minimize() sẽ trùng với công thức."
   ]
  },
  {
   "cell_type": "markdown",
   "id": "454e0dd7",
   "metadata": {},
   "source": [
    "<!-- END QUESTION -->\n",
    "\n",
    "---\n",
    "\n",
    "**Question 2.10** For which of the following error functions would we have resulted in the same slope and intercept values in 2.8 instead of using RMSE? Assume `error` is assigned to the actual values minus the predicted values. **(5 points)**\n",
    "\n",
    "1. `np.sum(error) ** 0.5`\n",
    "2. `np.sum(error ** 2)`\n",
    "3. `np.mean(error) ** 0.5`\n",
    "4. `np.mean(error ** 2)`\n",
    "\n",
    "Assign `error_array` to an array of your selections, in increasing numerical order. For example, if you wanted to select options 1, 3, and 5,\n",
    "you would assign `error_array` to `make_array(1, 3, 5)`.\n",
    "\n",
    "Hint: What was the purpose of RMSE? Are there any alternatives, and if so, does minimizing them them yield the same results as minimizing the RMSE? "
   ]
  },
  {
   "cell_type": "code",
   "execution_count": 34,
   "id": "09ede7cd",
   "metadata": {
    "tags": []
   },
   "outputs": [],
   "source": [
    "error_array = make_array(2, 4)"
   ]
  },
  {
   "cell_type": "code",
   "execution_count": 35,
   "id": "249f0c42",
   "metadata": {
    "deletable": false,
    "editable": false
   },
   "outputs": [
    {
     "data": {
      "text/html": [
       "<p><strong><pre style='display: inline;'>q2_10</pre></strong> passed! 🙌</p>"
      ],
      "text/plain": [
       "q2_10 results: All test cases passed!"
      ]
     },
     "execution_count": 35,
     "metadata": {},
     "output_type": "execute_result"
    }
   ],
   "source": [
    "grader.check(\"q2_10\")"
   ]
  },
  {
   "cell_type": "code",
   "execution_count": 36,
   "id": "d3b81849",
   "metadata": {},
   "outputs": [
    {
     "data": {
      "text/html": [
       "<table border=\"1\" class=\"dataframe\">\n",
       "    <thead>\n",
       "        <tr>\n",
       "            <th>short_name</th> <th>overall</th> <th>value_eur</th> <th>wage_eur</th> <th>age</th> <th>pace</th> <th>shooting</th> <th>passing</th> <th>attacking_finishing</th>\n",
       "        </tr>\n",
       "    </thead>\n",
       "    <tbody>\n",
       "        <tr>\n",
       "            <td>L. Messi         </td> <td>93     </td> <td>78000000 </td> <td>320000  </td> <td>34  </td> <td>85  </td> <td>92      </td> <td>91     </td> <td>95                 </td>\n",
       "        </tr>\n",
       "        <tr>\n",
       "            <td>R. Lewandowski   </td> <td>92     </td> <td>119500000</td> <td>270000  </td> <td>32  </td> <td>78  </td> <td>92      </td> <td>79     </td> <td>95                 </td>\n",
       "        </tr>\n",
       "        <tr>\n",
       "            <td>Cristiano Ronaldo</td> <td>91     </td> <td>45000000 </td> <td>270000  </td> <td>36  </td> <td>87  </td> <td>94      </td> <td>80     </td> <td>95                 </td>\n",
       "        </tr>\n",
       "        <tr>\n",
       "            <td>Neymar Jr        </td> <td>91     </td> <td>129000000</td> <td>270000  </td> <td>29  </td> <td>91  </td> <td>83      </td> <td>86     </td> <td>83                 </td>\n",
       "        </tr>\n",
       "        <tr>\n",
       "            <td>K. De Bruyne     </td> <td>91     </td> <td>125500000</td> <td>350000  </td> <td>30  </td> <td>76  </td> <td>86      </td> <td>93     </td> <td>82                 </td>\n",
       "        </tr>\n",
       "        <tr>\n",
       "            <td>K. Mbappé        </td> <td>91     </td> <td>194000000</td> <td>230000  </td> <td>22  </td> <td>97  </td> <td>88      </td> <td>80     </td> <td>93                 </td>\n",
       "        </tr>\n",
       "        <tr>\n",
       "            <td>H. Kane          </td> <td>90     </td> <td>129500000</td> <td>240000  </td> <td>27  </td> <td>70  </td> <td>91      </td> <td>83     </td> <td>94                 </td>\n",
       "        </tr>\n",
       "        <tr>\n",
       "            <td>N. Kanté         </td> <td>90     </td> <td>100000000</td> <td>230000  </td> <td>30  </td> <td>78  </td> <td>66      </td> <td>75     </td> <td>65                 </td>\n",
       "        </tr>\n",
       "        <tr>\n",
       "            <td>K. Benzema       </td> <td>89     </td> <td>66000000 </td> <td>350000  </td> <td>33  </td> <td>76  </td> <td>86      </td> <td>81     </td> <td>90                 </td>\n",
       "        </tr>\n",
       "        <tr>\n",
       "            <td>H. Son           </td> <td>89     </td> <td>104000000</td> <td>220000  </td> <td>28  </td> <td>88  </td> <td>87      </td> <td>82     </td> <td>88                 </td>\n",
       "        </tr>\n",
       "    </tbody>\n",
       "</table>\n",
       "<p>... (75 rows omitted)</p>"
      ],
      "text/plain": [
       "short_name        | overall | value_eur | wage_eur | age  | pace | shooting | passing | attacking_finishing\n",
       "L. Messi          | 93      | 78000000  | 320000   | 34   | 85   | 92       | 91      | 95\n",
       "R. Lewandowski    | 92      | 119500000 | 270000   | 32   | 78   | 92       | 79      | 95\n",
       "Cristiano Ronaldo | 91      | 45000000  | 270000   | 36   | 87   | 94       | 80      | 95\n",
       "Neymar Jr         | 91      | 129000000 | 270000   | 29   | 91   | 83       | 86      | 83\n",
       "K. De Bruyne      | 91      | 125500000 | 350000   | 30   | 76   | 86       | 93      | 82\n",
       "K. Mbappé         | 91      | 194000000 | 230000   | 22   | 97   | 88       | 80      | 93\n",
       "H. Kane           | 90      | 129500000 | 240000   | 27   | 70   | 91       | 83      | 94\n",
       "N. Kanté          | 90      | 100000000 | 230000   | 30   | 78   | 66       | 75      | 65\n",
       "K. Benzema        | 89      | 66000000  | 350000   | 33   | 76   | 86       | 81      | 90\n",
       "H. Son            | 89      | 104000000 | 220000   | 28   | 88   | 87       | 82      | 88\n",
       "... (75 rows omitted)"
      ]
     },
     "execution_count": 36,
     "metadata": {},
     "output_type": "execute_result"
    }
   ],
   "source": [
    "# goalies don't have shooting in our dataset so we removed them before looking at the pace stat\n",
    "no_goalies = fifa.where(\"shooting\", are.above(0))\n",
    "no_goalies"
   ]
  },
  {
   "cell_type": "code",
   "execution_count": 37,
   "id": "1598a3e3",
   "metadata": {},
   "outputs": [
    {
     "data": {
      "image/png": "[encoded data removed]",
      "text/plain": [
       "<Figure size 500x500 with 1 Axes>"
      ]
     },
     "metadata": {},
     "output_type": "display_data"
    }
   ],
   "source": [
    "# Run this cell to generate a scatter plot for the next part.\n",
    "no_goalies.scatter('shooting', 'attacking_finishing', fit_line=True)"
   ]
  },
  {
   "cell_type": "markdown",
   "id": "139e4b48",
   "metadata": {},
   "source": [
    "---\n",
    "\n",
    "**Question 2.11.** Above is a scatter plot showing the relationship between a player’s shooting ability (“shooting”) and their scoring ability (“attacking_finishing”). \n",
    "\n",
    "There is clearly a strong positive correlation between the 2 variables, and we’d like to predict a player’s scoring ability from their shooting ability. Which of the following are true, assuming linear regression is a reasonable model? **(5 points)**\n",
    "\n",
    "*Hint:* Re-reading [15.2](https://inferentialthinking.com/chapters/15/2/Regression_Line.html#) might be helpful here.\n",
    "\n",
    "1. For a majority of players with a `shooting` attribute above 80 our model predicts they have a better scoring ability than shooting ability.\n",
    "2. A randomly selected player's predicted scoring ability in standard units will always be less than their shooting ability in standard units.\n",
    "3. If we select a player who’s shooting ability is 1.0 in standard units, their scoring ability, on average, will be less than 1.0 in standard units.\n",
    "4. Goalies have attacking_finishing scores in our dataset but do not have shooting scores. We can still use our model to predict their attacking_finishing scores.\n",
    "\n",
    "Assign `scoring_array` to an array of your selections, in increasing numerical order. For example, if you wanted to select options 1, 3, and 5,\n",
    "you would assign `scoring_array` to `make_array(1, 3, 5)`.\n"
   ]
  },
  {
   "cell_type": "code",
   "execution_count": 38,
   "id": "c9c7cd65",
   "metadata": {
    "tags": []
   },
   "outputs": [],
   "source": [
    "scoring_array = make_array(3)"
   ]
  },
  {
   "cell_type": "code",
   "execution_count": 39,
   "id": "c6a9b385",
   "metadata": {
    "deletable": false,
    "editable": false
   },
   "outputs": [
    {
     "data": {
      "text/html": [
       "<p><strong><pre style='display: inline;'>q2_11</pre></strong> passed! 🌟</p>"
      ],
      "text/plain": [
       "q2_11 results: All test cases passed!"
      ]
     },
     "execution_count": 39,
     "metadata": {},
     "output_type": "execute_result"
    }
   ],
   "source": [
    "grader.check(\"q2_11\")"
   ]
  },
  {
   "attachments": {},
   "cell_type": "markdown",
   "id": "0dbdcd3e",
   "metadata": {},
   "source": [
    "You're done with Homework 10!  \n",
    "\n",
    "**Important submission steps:** \n",
    "1. Run the tests and verify that they all pass.\n",
    "2. Choose **Save Notebook** from the **File** menu, then **run the final cell**. \n",
    "3. Click the link to download the zip file.\n",
    "4. Go to [Gradescope](https://www.gradescope.com) and submit the zip file to the corresponding assignment. The name of this assignment is \"HW 10 Autograder\". \n",
    "\n",
    "**It is your responsibility to make sure your work is saved before running the last cell.**"
   ]
  },
  {
   "attachments": {},
   "cell_type": "markdown",
   "id": "c0d4681a",
   "metadata": {},
   "source": [
    "## Pets of Data 8\n",
    "**Gucci and Dior** are so proud of you for finishing homework 10. They hope you have a great rest of your day!\n",
    "\n",
    "<img src=\"./guccianddior.png\" width=\"40%\" alt=\"two maltese staring at camera\"/>"
   ]
  },
  {
   "cell_type": "markdown",
   "id": "d3e8745c",
   "metadata": {},
   "source": [
    "<hr style=\"border: 5px solid #003262;\" />\n",
    "<hr style=\"border: 1px solid #fdb515;\" />\n",
    "\n",
    "## Written Work Submission\n",
    "\n",
    "Below, you will see two cells. Running the first cell will automatically generate a PDF of all questions that need to be manually graded, and running the second cell will automatically generate a zip with your autograded answers. You are responsible for submitting both the coding portion (the zip) and the written portion (the PDF) to their respective Gradescope portals. **Please save before exporting!**\n",
    "\n",
    "> **Important: You must correctly assign the pages of your PDF after you submit to the correct gradescope assignment. If your pages are not correctly assigned and/or not in the correct PDF format by the deadline, we reserve the right to award no points for your written work.**\n",
    "\n",
    "If there are issues with automatically generating the PDF in the first cell, you can try downloading the notebook as a PDF by clicking on `File -> Save and Export Notebook As... -> Webpdf`. If that doesn't work either, you can manually take screenshots of your answers to the manually graded questions and submit one single PDF of your screenshots. Either way, **you are responsible for ensuring your submision follows our requirements, we will NOT be granting regrade requests for submissions that don't follow instructions.**\n",
    "\n",
    "**You must submit the PDF generated via one of these methods, we will not accept screenshots or Word documents.**"
   ]
  },
  {
   "cell_type": "code",
   "execution_count": 40,
   "id": "14fa5416",
   "metadata": {},
   "outputs": [
    {
     "ename": "PandocMissing",
     "evalue": "Pandoc wasn't found.\nPlease check that pandoc is installed:\nhttps://pandoc.org/installing.html",
     "output_type": "error",
     "traceback": [
      "\u001b[1;31m---------------------------------------------------------------------------\u001b[0m",
      "\u001b[1;31mPandocMissing\u001b[0m                             Traceback (most recent call last)",
      "Cell \u001b[1;32mIn[40], line 5\u001b[0m\n\u001b[0;32m      3\u001b[0m \u001b[38;5;28;01mfrom\u001b[39;00m\u001b[38;5;250m \u001b[39m\u001b[38;5;21;01mIPython\u001b[39;00m\u001b[38;5;21;01m.\u001b[39;00m\u001b[38;5;21;01mdisplay\u001b[39;00m\u001b[38;5;250m \u001b[39m\u001b[38;5;28;01mimport\u001b[39;00m display, HTML\n\u001b[0;32m      4\u001b[0m name \u001b[38;5;241m=\u001b[39m \u001b[38;5;124m'\u001b[39m\u001b[38;5;124mhw10\u001b[39m\u001b[38;5;124m'\u001b[39m\n\u001b[1;32m----> 5\u001b[0m \u001b[43mexport_notebook\u001b[49m\u001b[43m(\u001b[49m\u001b[38;5;124;43mf\u001b[39;49m\u001b[38;5;124;43m\"\u001b[39;49m\u001b[38;5;132;43;01m{\u001b[39;49;00m\u001b[43mname\u001b[49m\u001b[38;5;132;43;01m}\u001b[39;49;00m\u001b[38;5;124;43m.ipynb\u001b[39;49m\u001b[38;5;124;43m\"\u001b[39;49m\u001b[43m,\u001b[49m\u001b[43m \u001b[49m\u001b[43mfiltering\u001b[49m\u001b[38;5;241;43m=\u001b[39;49m\u001b[38;5;28;43;01mTrue\u001b[39;49;00m\u001b[43m,\u001b[49m\u001b[43m \u001b[49m\u001b[43mpagebreaks\u001b[49m\u001b[38;5;241;43m=\u001b[39;49m\u001b[38;5;28;43;01mTrue\u001b[39;49;00m\u001b[43m)\u001b[49m\n\u001b[0;32m      6\u001b[0m \u001b[38;5;28;01mif\u001b[39;00m(path\u001b[38;5;241m.\u001b[39mexists(\u001b[38;5;124mf\u001b[39m\u001b[38;5;124m'\u001b[39m\u001b[38;5;132;01m{\u001b[39;00mname\u001b[38;5;132;01m}\u001b[39;00m\u001b[38;5;124m.pdf\u001b[39m\u001b[38;5;124m'\u001b[39m)):\n\u001b[0;32m      7\u001b[0m     display(HTML(\u001b[38;5;124mf\u001b[39m\u001b[38;5;124m\"\u001b[39m\u001b[38;5;124mDownload your PDF <a href=\u001b[39m\u001b[38;5;124m'\u001b[39m\u001b[38;5;132;01m{\u001b[39;00mname\u001b[38;5;132;01m}\u001b[39;00m\u001b[38;5;124m.pdf\u001b[39m\u001b[38;5;124m'\u001b[39m\u001b[38;5;124m download>here</a>.\u001b[39m\u001b[38;5;124m\"\u001b[39m))\n",
      "File \u001b[1;32mc:\\Users\\sinhd\\AppData\\Local\\Programs\\Python\\Python311\\Lib\\site-packages\\otter\\export\\__init__.py:43\u001b[0m, in \u001b[0;36mexport_notebook\u001b[1;34m(nb_path, dest, exporter_type, **kwargs)\u001b[0m\n\u001b[0;32m     40\u001b[0m     pdf_name \u001b[38;5;241m=\u001b[39m os\u001b[38;5;241m.\u001b[39mpath\u001b[38;5;241m.\u001b[39msplitext(nb_path)[\u001b[38;5;241m0\u001b[39m] \u001b[38;5;241m+\u001b[39m \u001b[38;5;124m\"\u001b[39m\u001b[38;5;124m.pdf\u001b[39m\u001b[38;5;124m\"\u001b[39m\n\u001b[0;32m     42\u001b[0m Exporter \u001b[38;5;241m=\u001b[39m get_exporter(exporter_type\u001b[38;5;241m=\u001b[39mexporter_type)\n\u001b[1;32m---> 43\u001b[0m \u001b[43mExporter\u001b[49m\u001b[38;5;241;43m.\u001b[39;49m\u001b[43mconvert_notebook\u001b[49m\u001b[43m(\u001b[49m\u001b[43mnb_path\u001b[49m\u001b[43m,\u001b[49m\u001b[43m \u001b[49m\u001b[43mpdf_name\u001b[49m\u001b[43m,\u001b[49m\u001b[43m \u001b[49m\u001b[38;5;241;43m*\u001b[39;49m\u001b[38;5;241;43m*\u001b[39;49m\u001b[43mkwargs\u001b[49m\u001b[43m)\u001b[49m\n\u001b[0;32m     45\u001b[0m \u001b[38;5;28;01mreturn\u001b[39;00m pdf_name\n",
      "File \u001b[1;32mc:\\Users\\sinhd\\AppData\\Local\\Programs\\Python\\Python311\\Lib\\site-packages\\otter\\export\\exporters\\via_latex.py:71\u001b[0m, in \u001b[0;36mPDFViaLatexExporter.convert_notebook\u001b[1;34m(cls, nb_path, dest, xecjk, **kwargs)\u001b[0m\n\u001b[0;32m     68\u001b[0m     \u001b[38;5;28;01mwith\u001b[39;00m \u001b[38;5;28mopen\u001b[39m(os\u001b[38;5;241m.\u001b[39mpath\u001b[38;5;241m.\u001b[39msplitext(dest)[\u001b[38;5;241m0\u001b[39m] \u001b[38;5;241m+\u001b[39m \u001b[38;5;124m\"\u001b[39m\u001b[38;5;124m.tex\u001b[39m\u001b[38;5;124m\"\u001b[39m, \u001b[38;5;124m\"\u001b[39m\u001b[38;5;124mw+\u001b[39m\u001b[38;5;124m\"\u001b[39m) \u001b[38;5;28;01mas\u001b[39;00m output_file:\n\u001b[0;32m     69\u001b[0m         output_file\u001b[38;5;241m.\u001b[39mwrite(latex_output[\u001b[38;5;241m0\u001b[39m])\n\u001b[1;32m---> 71\u001b[0m pdf_output \u001b[38;5;241m=\u001b[39m \u001b[43mnbconvert\u001b[49m\u001b[38;5;241;43m.\u001b[39;49m\u001b[43mexport\u001b[49m\u001b[43m(\u001b[49m\u001b[43mpdf_exporter\u001b[49m\u001b[43m,\u001b[49m\u001b[43m \u001b[49m\u001b[43mnb\u001b[49m\u001b[43m)\u001b[49m\n\u001b[0;32m     72\u001b[0m \u001b[38;5;28;01mwith\u001b[39;00m \u001b[38;5;28mopen\u001b[39m(dest, \u001b[38;5;124m\"\u001b[39m\u001b[38;5;124mwb\u001b[39m\u001b[38;5;124m\"\u001b[39m) \u001b[38;5;28;01mas\u001b[39;00m output_file:\n\u001b[0;32m     73\u001b[0m     output_file\u001b[38;5;241m.\u001b[39mwrite(pdf_output[\u001b[38;5;241m0\u001b[39m])\n",
      "File \u001b[1;32mc:\\Users\\sinhd\\AppData\\Local\\Programs\\Python\\Python311\\Lib\\site-packages\\nbconvert\\exporters\\base.py:86\u001b[0m, in \u001b[0;36mexport\u001b[1;34m(exporter, nb, **kw)\u001b[0m\n\u001b[0;32m     84\u001b[0m \u001b[38;5;66;03m# Try to convert the notebook using the appropriate conversion function.\u001b[39;00m\n\u001b[0;32m     85\u001b[0m \u001b[38;5;28;01mif\u001b[39;00m \u001b[38;5;28misinstance\u001b[39m(nb, NotebookNode):\n\u001b[1;32m---> 86\u001b[0m     output, resources \u001b[38;5;241m=\u001b[39m \u001b[43mexporter_instance\u001b[49m\u001b[38;5;241;43m.\u001b[39;49m\u001b[43mfrom_notebook_node\u001b[49m\u001b[43m(\u001b[49m\u001b[43mnb\u001b[49m\u001b[43m,\u001b[49m\u001b[43m \u001b[49m\u001b[43mresources\u001b[49m\u001b[43m)\u001b[49m\n\u001b[0;32m     87\u001b[0m \u001b[38;5;28;01melif\u001b[39;00m \u001b[38;5;28misinstance\u001b[39m(nb, (\u001b[38;5;28mstr\u001b[39m,)):\n\u001b[0;32m     88\u001b[0m     output, resources \u001b[38;5;241m=\u001b[39m exporter_instance\u001b[38;5;241m.\u001b[39mfrom_filename(nb, resources)\n",
      "File \u001b[1;32mc:\\Users\\sinhd\\AppData\\Local\\Programs\\Python\\Python311\\Lib\\site-packages\\nbconvert\\exporters\\pdf.py:184\u001b[0m, in \u001b[0;36mPDFExporter.from_notebook_node\u001b[1;34m(self, nb, resources, **kw)\u001b[0m\n\u001b[0;32m    182\u001b[0m \u001b[38;5;28;01mdef\u001b[39;00m\u001b[38;5;250m \u001b[39m\u001b[38;5;21mfrom_notebook_node\u001b[39m(\u001b[38;5;28mself\u001b[39m, nb, resources\u001b[38;5;241m=\u001b[39m\u001b[38;5;28;01mNone\u001b[39;00m, \u001b[38;5;241m*\u001b[39m\u001b[38;5;241m*\u001b[39mkw):\n\u001b[0;32m    183\u001b[0m \u001b[38;5;250m    \u001b[39m\u001b[38;5;124;03m\"\"\"Convert from notebook node.\"\"\"\u001b[39;00m\n\u001b[1;32m--> 184\u001b[0m     latex, resources \u001b[38;5;241m=\u001b[39m \u001b[38;5;28;43msuper\u001b[39;49m\u001b[43m(\u001b[49m\u001b[43m)\u001b[49m\u001b[38;5;241;43m.\u001b[39;49m\u001b[43mfrom_notebook_node\u001b[49m\u001b[43m(\u001b[49m\u001b[43mnb\u001b[49m\u001b[43m,\u001b[49m\u001b[43m \u001b[49m\u001b[43mresources\u001b[49m\u001b[38;5;241;43m=\u001b[39;49m\u001b[43mresources\u001b[49m\u001b[43m,\u001b[49m\u001b[43m \u001b[49m\u001b[38;5;241;43m*\u001b[39;49m\u001b[38;5;241;43m*\u001b[39;49m\u001b[43mkw\u001b[49m\u001b[43m)\u001b[49m\n\u001b[0;32m    185\u001b[0m     \u001b[38;5;66;03m# set texinputs directory, so that local files will be found\u001b[39;00m\n\u001b[0;32m    186\u001b[0m     \u001b[38;5;28;01mif\u001b[39;00m resources \u001b[38;5;129;01mand\u001b[39;00m resources\u001b[38;5;241m.\u001b[39mget(\u001b[38;5;124m\"\u001b[39m\u001b[38;5;124mmetadata\u001b[39m\u001b[38;5;124m\"\u001b[39m, {})\u001b[38;5;241m.\u001b[39mget(\u001b[38;5;124m\"\u001b[39m\u001b[38;5;124mpath\u001b[39m\u001b[38;5;124m\"\u001b[39m):\n",
      "File \u001b[1;32mc:\\Users\\sinhd\\AppData\\Local\\Programs\\Python\\Python311\\Lib\\site-packages\\nbconvert\\exporters\\latex.py:92\u001b[0m, in \u001b[0;36mLatexExporter.from_notebook_node\u001b[1;34m(self, nb, resources, **kw)\u001b[0m\n\u001b[0;32m     86\u001b[0m convert_explicitly_relative_paths \u001b[38;5;241m=\u001b[39m \u001b[38;5;28mself\u001b[39m\u001b[38;5;241m.\u001b[39mfilters\u001b[38;5;241m.\u001b[39mget(\n\u001b[0;32m     87\u001b[0m     \u001b[38;5;124m\"\u001b[39m\u001b[38;5;124mconvert_explicitly_relative_paths\u001b[39m\u001b[38;5;124m\"\u001b[39m,\n\u001b[0;32m     88\u001b[0m     ConvertExplicitlyRelativePaths(texinputs\u001b[38;5;241m=\u001b[39mtexinputs, parent\u001b[38;5;241m=\u001b[39m\u001b[38;5;28mself\u001b[39m),\n\u001b[0;32m     89\u001b[0m )\n\u001b[0;32m     90\u001b[0m \u001b[38;5;28mself\u001b[39m\u001b[38;5;241m.\u001b[39mregister_filter(\u001b[38;5;124m\"\u001b[39m\u001b[38;5;124mconvert_explicitly_relative_paths\u001b[39m\u001b[38;5;124m\"\u001b[39m, convert_explicitly_relative_paths)\n\u001b[1;32m---> 92\u001b[0m \u001b[38;5;28;01mreturn\u001b[39;00m \u001b[38;5;28;43msuper\u001b[39;49m\u001b[43m(\u001b[49m\u001b[43m)\u001b[49m\u001b[38;5;241;43m.\u001b[39;49m\u001b[43mfrom_notebook_node\u001b[49m\u001b[43m(\u001b[49m\u001b[43mnb\u001b[49m\u001b[43m,\u001b[49m\u001b[43m \u001b[49m\u001b[43mresources\u001b[49m\u001b[43m,\u001b[49m\u001b[43m \u001b[49m\u001b[38;5;241;43m*\u001b[39;49m\u001b[38;5;241;43m*\u001b[39;49m\u001b[43mkw\u001b[49m\u001b[43m)\u001b[49m\n",
      "File \u001b[1;32mc:\\Users\\sinhd\\AppData\\Local\\Programs\\Python\\Python311\\Lib\\site-packages\\nbconvert\\exporters\\templateexporter.py:429\u001b[0m, in \u001b[0;36mTemplateExporter.from_notebook_node\u001b[1;34m(self, nb, resources, **kw)\u001b[0m\n\u001b[0;32m    415\u001b[0m resources[\u001b[38;5;124m\"\u001b[39m\u001b[38;5;124mglobal_content_filter\u001b[39m\u001b[38;5;124m\"\u001b[39m] \u001b[38;5;241m=\u001b[39m {\n\u001b[0;32m    416\u001b[0m     \u001b[38;5;124m\"\u001b[39m\u001b[38;5;124minclude_code\u001b[39m\u001b[38;5;124m\"\u001b[39m: \u001b[38;5;129;01mnot\u001b[39;00m \u001b[38;5;28mself\u001b[39m\u001b[38;5;241m.\u001b[39mexclude_code_cell,\n\u001b[0;32m    417\u001b[0m     \u001b[38;5;124m\"\u001b[39m\u001b[38;5;124minclude_markdown\u001b[39m\u001b[38;5;124m\"\u001b[39m: \u001b[38;5;129;01mnot\u001b[39;00m \u001b[38;5;28mself\u001b[39m\u001b[38;5;241m.\u001b[39mexclude_markdown,\n\u001b[1;32m   (...)\u001b[0m\n\u001b[0;32m    425\u001b[0m     \u001b[38;5;124m\"\u001b[39m\u001b[38;5;124mno_prompt\u001b[39m\u001b[38;5;124m\"\u001b[39m: \u001b[38;5;28mself\u001b[39m\u001b[38;5;241m.\u001b[39mexclude_input_prompt \u001b[38;5;129;01mand\u001b[39;00m \u001b[38;5;28mself\u001b[39m\u001b[38;5;241m.\u001b[39mexclude_output_prompt,\n\u001b[0;32m    426\u001b[0m }\n\u001b[0;32m    428\u001b[0m \u001b[38;5;66;03m# Top level variables are passed to the template_exporter here.\u001b[39;00m\n\u001b[1;32m--> 429\u001b[0m output \u001b[38;5;241m=\u001b[39m \u001b[38;5;28;43mself\u001b[39;49m\u001b[38;5;241;43m.\u001b[39;49m\u001b[43mtemplate\u001b[49m\u001b[38;5;241;43m.\u001b[39;49m\u001b[43mrender\u001b[49m\u001b[43m(\u001b[49m\u001b[43mnb\u001b[49m\u001b[38;5;241;43m=\u001b[39;49m\u001b[43mnb_copy\u001b[49m\u001b[43m,\u001b[49m\u001b[43m \u001b[49m\u001b[43mresources\u001b[49m\u001b[38;5;241;43m=\u001b[39;49m\u001b[43mresources\u001b[49m\u001b[43m)\u001b[49m\n\u001b[0;32m    430\u001b[0m output \u001b[38;5;241m=\u001b[39m output\u001b[38;5;241m.\u001b[39mlstrip(\u001b[38;5;124m\"\u001b[39m\u001b[38;5;130;01m\\r\u001b[39;00m\u001b[38;5;130;01m\\n\u001b[39;00m\u001b[38;5;124m\"\u001b[39m)\n\u001b[0;32m    431\u001b[0m \u001b[38;5;28;01mreturn\u001b[39;00m output, resources\n",
      "File \u001b[1;32mc:\\Users\\sinhd\\AppData\\Local\\Programs\\Python\\Python311\\Lib\\site-packages\\jinja2\\environment.py:1301\u001b[0m, in \u001b[0;36mTemplate.render\u001b[1;34m(self, *args, **kwargs)\u001b[0m\n\u001b[0;32m   1299\u001b[0m     \u001b[38;5;28;01mreturn\u001b[39;00m \u001b[38;5;28mself\u001b[39m\u001b[38;5;241m.\u001b[39menvironment\u001b[38;5;241m.\u001b[39mconcat(\u001b[38;5;28mself\u001b[39m\u001b[38;5;241m.\u001b[39mroot_render_func(ctx))  \u001b[38;5;66;03m# type: ignore\u001b[39;00m\n\u001b[0;32m   1300\u001b[0m \u001b[38;5;28;01mexcept\u001b[39;00m \u001b[38;5;167;01mException\u001b[39;00m:\n\u001b[1;32m-> 1301\u001b[0m     \u001b[38;5;28;43mself\u001b[39;49m\u001b[38;5;241;43m.\u001b[39;49m\u001b[43menvironment\u001b[49m\u001b[38;5;241;43m.\u001b[39;49m\u001b[43mhandle_exception\u001b[49m\u001b[43m(\u001b[49m\u001b[43m)\u001b[49m\n",
      "File \u001b[1;32mc:\\Users\\sinhd\\AppData\\Local\\Programs\\Python\\Python311\\Lib\\site-packages\\jinja2\\environment.py:936\u001b[0m, in \u001b[0;36mEnvironment.handle_exception\u001b[1;34m(self, source)\u001b[0m\n\u001b[0;32m    931\u001b[0m \u001b[38;5;250m\u001b[39m\u001b[38;5;124;03m\"\"\"Exception handling helper.  This is used internally to either raise\u001b[39;00m\n\u001b[0;32m    932\u001b[0m \u001b[38;5;124;03mrewritten exceptions or return a rendered traceback for the template.\u001b[39;00m\n\u001b[0;32m    933\u001b[0m \u001b[38;5;124;03m\"\"\"\u001b[39;00m\n\u001b[0;32m    934\u001b[0m \u001b[38;5;28;01mfrom\u001b[39;00m\u001b[38;5;250m \u001b[39m\u001b[38;5;21;01m.\u001b[39;00m\u001b[38;5;21;01mdebug\u001b[39;00m\u001b[38;5;250m \u001b[39m\u001b[38;5;28;01mimport\u001b[39;00m rewrite_traceback_stack\n\u001b[1;32m--> 936\u001b[0m \u001b[38;5;28;01mraise\u001b[39;00m rewrite_traceback_stack(source\u001b[38;5;241m=\u001b[39msource)\n",
      "File \u001b[1;32mc:\\Users\\sinhd\\AppData\\Local\\Programs\\Python\\Python311\\Lib\\site-packages\\otter\\export\\exporters\\templates\\via_latex\\index.tex.j2:7\u001b[0m, in \u001b[0;36mtop-level template code\u001b[1;34m()\u001b[0m\n\u001b[0;32m      5\u001b[0m \n\u001b[0;32m      6\u001b[0m % Inherit from the specified cell style.\n\u001b[1;32m----> 7\u001b[0m ((* extends cell_style *))\n\u001b[0;32m      8\u001b[0m \n\u001b[0;32m      9\u001b[0m \n",
      "File \u001b[1;32mc:\\Users\\sinhd\\AppData\\Local\\Programs\\Python\\Python311\\share\\jupyter\\nbconvert\\templates\\latex\\style_ipython.tex.j2:68\u001b[0m, in \u001b[0;36mtop-level template code\u001b[1;34m()\u001b[0m\n\u001b[0;32m     66\u001b[0m     ((*- set indention =  \" \" * (execution_count | length + 7) -*))\n\u001b[0;32m     67\u001b[0m \\begin{Verbatim}[commandchars=\\\\\\{\\}]\n\u001b[1;32m---> 68\u001b[0m ((( text | add_prompts(first='{\\\\color{' ~ prompt_color ~ '}' ~ prompt ~ '[{\\\\color{' ~ prompt_color ~ '}' ~ execution_count ~ '}]:} ', cont=indention) )))\n\u001b[0;32m     69\u001b[0m \\end{Verbatim}\n\u001b[0;32m     70\u001b[0m ((*- endmacro *))\n",
      "File \u001b[1;32mc:\\Users\\sinhd\\AppData\\Local\\Programs\\Python\\Python311\\share\\jupyter\\nbconvert\\templates\\latex\\base.tex.j2:7\u001b[0m, in \u001b[0;36mtop-level template code\u001b[1;34m()\u001b[0m\n\u001b[0;32m      5\u001b[0m override this.-=))\n\u001b[0;32m      6\u001b[0m \n\u001b[1;32m----> 7\u001b[0m ((*- extends 'document_contents.tex.j2' -*))\n\u001b[0;32m      8\u001b[0m \n\u001b[0;32m      9\u001b[0m %===============================================================================\n",
      "File \u001b[1;32mc:\\Users\\sinhd\\AppData\\Local\\Programs\\Python\\Python311\\share\\jupyter\\nbconvert\\templates\\latex\\document_contents.tex.j2:51\u001b[0m, in \u001b[0;36mtop-level template code\u001b[1;34m()\u001b[0m\n\u001b[0;32m     49\u001b[0m ((* macro draw_figure(filename) -*))\n\u001b[0;32m     50\u001b[0m ((* set filename = filename | posix_path *))\n\u001b[1;32m---> 51\u001b[0m ((*- block figure scoped -*))\n\u001b[0;32m     52\u001b[0m     \\begin{center}\n\u001b[0;32m     53\u001b[0m     \\adjustimage{max size={0.9\\linewidth}{0.9\\paperheight}}{((( filename )))}\n",
      "File \u001b[1;32mc:\\Users\\sinhd\\AppData\\Local\\Programs\\Python\\Python311\\share\\jupyter\\nbconvert\\templates\\latex\\display_priority.j2:5\u001b[0m, in \u001b[0;36mtop-level template code\u001b[1;34m()\u001b[0m\n\u001b[0;32m      3\u001b[0m \n\u001b[0;32m      4\u001b[0m \n\u001b[1;32m----> 5\u001b[0m ((*- extends 'null.j2' -*))\n\u001b[0;32m      6\u001b[0m \n\u001b[0;32m      7\u001b[0m ((=display data priority=))\n",
      "File \u001b[1;32mc:\\Users\\sinhd\\AppData\\Local\\Programs\\Python\\Python311\\share\\jupyter\\nbconvert\\templates\\latex\\null.j2:30\u001b[0m, in \u001b[0;36mtop-level template code\u001b[1;34m()\u001b[0m\n\u001b[0;32m     28\u001b[0m ((*- block header -*))\n\u001b[0;32m     29\u001b[0m ((*- endblock header -*))\n\u001b[1;32m---> 30\u001b[0m ((*- block body -*))\n\u001b[0;32m     31\u001b[0m ((*- for cell in nb.cells -*))\n\u001b[0;32m     32\u001b[0m     ((*- block any_cell scoped -*))\n",
      "File \u001b[1;32mc:\\Users\\sinhd\\AppData\\Local\\Programs\\Python\\Python311\\share\\jupyter\\nbconvert\\templates\\latex\\base.tex.j2:241\u001b[0m, in \u001b[0;36mblock 'body'\u001b[1;34m()\u001b[0m\n\u001b[0;32m    239\u001b[0m ((* endblock predoc *))\n\u001b[0;32m    240\u001b[0m \n\u001b[1;32m--> 241\u001b[0m ((( super() )))\n\u001b[0;32m    242\u001b[0m \n\u001b[0;32m    243\u001b[0m % Add a bibliography block to the postdoc\n",
      "File \u001b[1;32mc:\\Users\\sinhd\\AppData\\Local\\Programs\\Python\\Python311\\share\\jupyter\\nbconvert\\templates\\latex\\null.j2:32\u001b[0m, in \u001b[0;36mblock 'body'\u001b[1;34m()\u001b[0m\n\u001b[0;32m     30\u001b[0m ((*- block body -*))\n\u001b[0;32m     31\u001b[0m ((*- for cell in nb.cells -*))\n\u001b[1;32m---> 32\u001b[0m     ((*- block any_cell scoped -*))\n\u001b[0;32m     33\u001b[0m         ((*- if cell.cell_type == 'code'-*))\n\u001b[0;32m     34\u001b[0m             ((*- if resources.global_content_filter.include_code -*))\n",
      "File \u001b[1;32mc:\\Users\\sinhd\\AppData\\Local\\Programs\\Python\\Python311\\share\\jupyter\\nbconvert\\templates\\latex\\null.j2:85\u001b[0m, in \u001b[0;36mblock 'any_cell'\u001b[1;34m()\u001b[0m\n\u001b[0;32m     83\u001b[0m ((*- elif cell.cell_type in ['markdown'] -*))\n\u001b[0;32m     84\u001b[0m     ((*- if resources.global_content_filter.include_markdown and not cell.metadata.get(\"transient\",{}).get(\"remove_source\", false) -*))\n\u001b[1;32m---> 85\u001b[0m         ((*- block markdowncell scoped-*)) ((*- endblock markdowncell -*))\n\u001b[0;32m     86\u001b[0m     ((*- endif -*))\n\u001b[0;32m     87\u001b[0m ((*- elif cell.cell_type in ['raw'] -*))\n",
      "File \u001b[1;32mc:\\Users\\sinhd\\AppData\\Local\\Programs\\Python\\Python311\\Lib\\site-packages\\otter\\export\\exporters\\templates\\via_latex\\index.tex.j2:32\u001b[0m, in \u001b[0;36mblock 'markdowncell'\u001b[1;34m()\u001b[0m\n\u001b[0;32m     30\u001b[0m \t\t\\cleartooddpage\n\u001b[0;32m     31\u001b[0m         ((*- endif -*))\n\u001b[1;32m---> 32\u001b[0m ((( super() )))\n\u001b[0;32m     33\u001b[0m ((* endblock markdowncell *))\n\u001b[0;32m     34\u001b[0m \n",
      "File \u001b[1;32mc:\\Users\\sinhd\\AppData\\Local\\Programs\\Python\\Python311\\share\\jupyter\\nbconvert\\templates\\latex\\document_contents.tex.j2:68\u001b[0m, in \u001b[0;36mblock 'markdowncell'\u001b[1;34m()\u001b[0m\n\u001b[0;32m     66\u001b[0m % Render markdown\n\u001b[0;32m     67\u001b[0m ((* block markdowncell scoped *))\n\u001b[1;32m---> 68\u001b[0m     ((( cell.source | citation2latex | strip_files_prefix | convert_pandoc('markdown+tex_math_double_backslash', 'json',extra_args=[]) | resolve_references | convert_explicitly_relative_paths | convert_pandoc('json','latex'))))\n\u001b[0;32m     69\u001b[0m ((* endblock markdowncell *))\n\u001b[0;32m     70\u001b[0m \n",
      "File \u001b[1;32mc:\\Users\\sinhd\\AppData\\Local\\Programs\\Python\\Python311\\Lib\\site-packages\\nbconvert\\filters\\pandoc.py:36\u001b[0m, in \u001b[0;36mconvert_pandoc\u001b[1;34m(source, from_format, to_format, extra_args)\u001b[0m\n\u001b[0;32m     16\u001b[0m \u001b[38;5;28;01mdef\u001b[39;00m\u001b[38;5;250m \u001b[39m\u001b[38;5;21mconvert_pandoc\u001b[39m(source, from_format, to_format, extra_args\u001b[38;5;241m=\u001b[39m\u001b[38;5;28;01mNone\u001b[39;00m):\n\u001b[0;32m     17\u001b[0m \u001b[38;5;250m    \u001b[39m\u001b[38;5;124;03m\"\"\"Convert between any two formats using pandoc.\u001b[39;00m\n\u001b[0;32m     18\u001b[0m \n\u001b[0;32m     19\u001b[0m \u001b[38;5;124;03m    This function will raise an error if pandoc is not installed.\u001b[39;00m\n\u001b[1;32m   (...)\u001b[0m\n\u001b[0;32m     34\u001b[0m \u001b[38;5;124;03m        Output as returned by pandoc.\u001b[39;00m\n\u001b[0;32m     35\u001b[0m \u001b[38;5;124;03m    \"\"\"\u001b[39;00m\n\u001b[1;32m---> 36\u001b[0m     \u001b[38;5;28;01mreturn\u001b[39;00m \u001b[43mpandoc\u001b[49m\u001b[43m(\u001b[49m\u001b[43msource\u001b[49m\u001b[43m,\u001b[49m\u001b[43m \u001b[49m\u001b[43mfrom_format\u001b[49m\u001b[43m,\u001b[49m\u001b[43m \u001b[49m\u001b[43mto_format\u001b[49m\u001b[43m,\u001b[49m\u001b[43m \u001b[49m\u001b[43mextra_args\u001b[49m\u001b[38;5;241;43m=\u001b[39;49m\u001b[43mextra_args\u001b[49m\u001b[43m)\u001b[49m\n",
      "File \u001b[1;32mc:\\Users\\sinhd\\AppData\\Local\\Programs\\Python\\Python311\\Lib\\site-packages\\nbconvert\\utils\\pandoc.py:50\u001b[0m, in \u001b[0;36mpandoc\u001b[1;34m(source, fmt, to, extra_args, encoding)\u001b[0m\n\u001b[0;32m     47\u001b[0m     cmd\u001b[38;5;241m.\u001b[39mextend(extra_args)\n\u001b[0;32m     49\u001b[0m \u001b[38;5;66;03m# this will raise an exception that will pop us out of here\u001b[39;00m\n\u001b[1;32m---> 50\u001b[0m \u001b[43mcheck_pandoc_version\u001b[49m\u001b[43m(\u001b[49m\u001b[43m)\u001b[49m\n\u001b[0;32m     52\u001b[0m \u001b[38;5;66;03m# we can safely continue\u001b[39;00m\n\u001b[0;32m     53\u001b[0m p \u001b[38;5;241m=\u001b[39m subprocess\u001b[38;5;241m.\u001b[39mPopen(cmd, stdin\u001b[38;5;241m=\u001b[39msubprocess\u001b[38;5;241m.\u001b[39mPIPE, stdout\u001b[38;5;241m=\u001b[39msubprocess\u001b[38;5;241m.\u001b[39mPIPE)  \u001b[38;5;66;03m# noqa: S603\u001b[39;00m\n",
      "File \u001b[1;32mc:\\Users\\sinhd\\AppData\\Local\\Programs\\Python\\Python311\\Lib\\site-packages\\nbconvert\\utils\\pandoc.py:98\u001b[0m, in \u001b[0;36mcheck_pandoc_version\u001b[1;34m()\u001b[0m\n\u001b[0;32m     95\u001b[0m \u001b[38;5;28;01mif\u001b[39;00m check_pandoc_version\u001b[38;5;241m.\u001b[39m_cached \u001b[38;5;129;01mis\u001b[39;00m \u001b[38;5;129;01mnot\u001b[39;00m \u001b[38;5;28;01mNone\u001b[39;00m:  \u001b[38;5;66;03m# type:ignore[attr-defined]\u001b[39;00m\n\u001b[0;32m     96\u001b[0m     \u001b[38;5;28;01mreturn\u001b[39;00m check_pandoc_version\u001b[38;5;241m.\u001b[39m_cached  \u001b[38;5;66;03m# type:ignore[attr-defined]\u001b[39;00m\n\u001b[1;32m---> 98\u001b[0m v \u001b[38;5;241m=\u001b[39m \u001b[43mget_pandoc_version\u001b[49m\u001b[43m(\u001b[49m\u001b[43m)\u001b[49m\n\u001b[0;32m     99\u001b[0m \u001b[38;5;28;01mif\u001b[39;00m v \u001b[38;5;129;01mis\u001b[39;00m \u001b[38;5;28;01mNone\u001b[39;00m:\n\u001b[0;32m    100\u001b[0m     warnings\u001b[38;5;241m.\u001b[39mwarn(\n\u001b[0;32m    101\u001b[0m         \u001b[38;5;124m\"\u001b[39m\u001b[38;5;124mSorry, we cannot determine the version of pandoc.\u001b[39m\u001b[38;5;130;01m\\n\u001b[39;00m\u001b[38;5;124m\"\u001b[39m\n\u001b[0;32m    102\u001b[0m         \u001b[38;5;124m\"\u001b[39m\u001b[38;5;124mPlease consider reporting this issue and include the\u001b[39m\u001b[38;5;124m\"\u001b[39m\n\u001b[1;32m   (...)\u001b[0m\n\u001b[0;32m    105\u001b[0m         stacklevel\u001b[38;5;241m=\u001b[39m\u001b[38;5;241m2\u001b[39m,\n\u001b[0;32m    106\u001b[0m     )\n",
      "File \u001b[1;32mc:\\Users\\sinhd\\AppData\\Local\\Programs\\Python\\Python311\\Lib\\site-packages\\nbconvert\\utils\\pandoc.py:75\u001b[0m, in \u001b[0;36mget_pandoc_version\u001b[1;34m()\u001b[0m\n\u001b[0;32m     73\u001b[0m \u001b[38;5;28;01mif\u001b[39;00m __version \u001b[38;5;129;01mis\u001b[39;00m \u001b[38;5;28;01mNone\u001b[39;00m:\n\u001b[0;32m     74\u001b[0m     \u001b[38;5;28;01mif\u001b[39;00m \u001b[38;5;129;01mnot\u001b[39;00m shutil\u001b[38;5;241m.\u001b[39mwhich(\u001b[38;5;124m\"\u001b[39m\u001b[38;5;124mpandoc\u001b[39m\u001b[38;5;124m\"\u001b[39m):\n\u001b[1;32m---> 75\u001b[0m         \u001b[38;5;28;01mraise\u001b[39;00m PandocMissing()\n\u001b[0;32m     77\u001b[0m     out \u001b[38;5;241m=\u001b[39m subprocess\u001b[38;5;241m.\u001b[39mcheck_output([\u001b[38;5;124m\"\u001b[39m\u001b[38;5;124mpandoc\u001b[39m\u001b[38;5;124m\"\u001b[39m, \u001b[38;5;124m\"\u001b[39m\u001b[38;5;124m-v\u001b[39m\u001b[38;5;124m\"\u001b[39m])  \u001b[38;5;66;03m# noqa: S607, S603\u001b[39;00m\n\u001b[0;32m     78\u001b[0m     out_lines \u001b[38;5;241m=\u001b[39m out\u001b[38;5;241m.\u001b[39msplitlines()\n",
      "\u001b[1;31mPandocMissing\u001b[0m: Pandoc wasn't found.\nPlease check that pandoc is installed:\nhttps://pandoc.org/installing.html"
     ]
    }
   ],
   "source": [
    "from otter.export import export_notebook\n",
    "from os import path\n",
    "from IPython.display import display, HTML\n",
    "name = 'hw10'\n",
    "export_notebook(f\"{name}.ipynb\", filtering=True, pagebreaks=True)\n",
    "if(path.exists(f'{name}.pdf')):\n",
    "    display(HTML(f\"Download your PDF <a href='{name}.pdf' download>here</a>.\"))\n",
    "else:\n",
    "    print(\"\\n Pdf generation failed, please try the other methods described above\")"
   ]
  },
  {
   "cell_type": "markdown",
   "id": "d4fe26ed",
   "metadata": {
    "deletable": false,
    "editable": false
   },
   "source": [
    "## Submission\n",
    "\n",
    "Make sure you have run all cells in your notebook in order before running the cell below, so that all images/graphs appear in the output. The cell below will generate a zip file for you to submit. **Please save before exporting!**"
   ]
  },
  {
   "cell_type": "code",
   "execution_count": 41,
   "id": "8494a26c",
   "metadata": {
    "deletable": false,
    "editable": false
   },
   "outputs": [
    {
     "name": "stdout",
     "output_type": "stream",
     "text": [
      "Running your submission against local test cases...\n",
      "\n",
      "\n",
      "Your submission received the following results when run against available test cases:\n",
      "\n",
      "    q1_1 results:\n",
      "        q1_1 - 1 result:\n",
      "            ❌ Test case failed\n",
      "            Trying:\n",
      "                standard_units([1,2,3,4,5])\n",
      "            Expecting:\n",
      "                array([-1.41421356, -0.70710678,  0.        ,  0.70710678,  1.41421356])\n",
      "            **********************************************************************\n",
      "            Line 1, in q1_1 0\n",
      "            Failed example:\n",
      "                standard_units([1,2,3,4,5])\n",
      "            Expected:\n",
      "                array([-1.41421356, -0.70710678,  0.        ,  0.70710678,  1.41421356])\n",
      "            Got nothing\n",
      "\n",
      "        q1_1 - 2 result:\n",
      "            ❌ Test case failed\n",
      "            Trying:\n",
      "                np.isclose(np.mean(standard_units([1,2,3,4,5])), 0)\n",
      "            Expecting:\n",
      "                True\n",
      "            **********************************************************************\n",
      "            Line 1, in q1_1 1\n",
      "            Failed example:\n",
      "                np.isclose(np.mean(standard_units([1,2,3,4,5])), 0)\n",
      "            Exception raised:\n",
      "                Traceback (most recent call last):\n",
      "                  File \"c:\\Users\\sinhd\\AppData\\Local\\Programs\\Python\\Python311\\Lib\\doctest.py\", line 1351, in __run\n",
      "                    exec(compile(example.source, filename, \"single\",\n",
      "                  File \"<doctest q1_1 1[0]>\", line 1, in <module>\n",
      "                    np.isclose(np.mean(standard_units([1,2,3,4,5])), 0)\n",
      "                               ^^^^^^^^^^^^^^^^^^^^^^^^^^^^^^^^^^^^\n",
      "                  File \"c:\\Users\\sinhd\\AppData\\Local\\Programs\\Python\\Python311\\Lib\\site-packages\\numpy\\core\\fromnumeric.py\", line 3504, in mean\n",
      "                    return _methods._mean(a, axis=axis, dtype=dtype,\n",
      "                           ^^^^^^^^^^^^^^^^^^^^^^^^^^^^^^^^^^^^^^^^^\n",
      "                  File \"c:\\Users\\sinhd\\AppData\\Local\\Programs\\Python\\Python311\\Lib\\site-packages\\numpy\\core\\_methods.py\", line 131, in _mean\n",
      "                    ret = ret / rcount\n",
      "                          ~~~~^~~~~~~~\n",
      "                TypeError: unsupported operand type(s) for /: 'NoneType' and 'int'\n",
      "\n",
      "        q1_1 - 3 result:\n",
      "            ❌ Test case failed\n",
      "            Trying:\n",
      "                np.isclose(np.std(standard_units([1,2,3,4,5])), 0.9999999999999999)\n",
      "            Expecting:\n",
      "                True\n",
      "            **********************************************************************\n",
      "            Line 1, in q1_1 2\n",
      "            Failed example:\n",
      "                np.isclose(np.std(standard_units([1,2,3,4,5])), 0.9999999999999999)\n",
      "            Exception raised:\n",
      "                Traceback (most recent call last):\n",
      "                  File \"c:\\Users\\sinhd\\AppData\\Local\\Programs\\Python\\Python311\\Lib\\doctest.py\", line 1351, in __run\n",
      "                    exec(compile(example.source, filename, \"single\",\n",
      "                  File \"<doctest q1_1 2[0]>\", line 1, in <module>\n",
      "                    np.isclose(np.std(standard_units([1,2,3,4,5])), 0.9999999999999999)\n",
      "                               ^^^^^^^^^^^^^^^^^^^^^^^^^^^^^^^^^^^\n",
      "                  File \"c:\\Users\\sinhd\\AppData\\Local\\Programs\\Python\\Python311\\Lib\\site-packages\\numpy\\core\\fromnumeric.py\", line 3645, in std\n",
      "                    return _methods._std(a, axis=axis, dtype=dtype, out=out, ddof=ddof,\n",
      "                           ^^^^^^^^^^^^^^^^^^^^^^^^^^^^^^^^^^^^^^^^^^^^^^^^^^^^^^^^^^^^\n",
      "                  File \"c:\\Users\\sinhd\\AppData\\Local\\Programs\\Python\\Python311\\Lib\\site-packages\\numpy\\core\\_methods.py\", line 206, in _std\n",
      "                    ret = _var(a, axis=axis, dtype=dtype, out=out, ddof=ddof,\n",
      "                          ^^^^^^^^^^^^^^^^^^^^^^^^^^^^^^^^^^^^^^^^^^^^^^^^^^^\n",
      "                  File \"c:\\Users\\sinhd\\AppData\\Local\\Programs\\Python\\Python311\\Lib\\site-packages\\numpy\\core\\_methods.py\", line 168, in _var\n",
      "                    arrmean = arrmean / rcount\n",
      "                              ~~~~~~~~^~~~~~~~\n",
      "                TypeError: unsupported operand type(s) for /: 'NoneType' and 'int'\n",
      "\n",
      "    q1_2 results:\n",
      "        q1_2 - 1 result:\n",
      "            ❌ Test case failed\n",
      "            Trying:\n",
      "                import numpy as np\n",
      "            Expecting nothing\n",
      "            ok\n",
      "            Trying:\n",
      "                type(standard_array) == np.ndarray\n",
      "            Expecting:\n",
      "                True\n",
      "            **********************************************************************\n",
      "            Line 3, in q1_2 0\n",
      "            Failed example:\n",
      "                type(standard_array) == np.ndarray\n",
      "            Expected:\n",
      "                True\n",
      "            Got:\n",
      "                False\n",
      "\n",
      "        q1_2 - 2 result:\n",
      "            ❌ Test case failed\n",
      "            Trying:\n",
      "                all(standard_array == np.sort(standard_array))\n",
      "            Expecting:\n",
      "                True\n",
      "            **********************************************************************\n",
      "            Line 2, in q1_2 1\n",
      "            Failed example:\n",
      "                all(standard_array == np.sort(standard_array))\n",
      "            Exception raised:\n",
      "                Traceback (most recent call last):\n",
      "                  File \"c:\\Users\\sinhd\\AppData\\Local\\Programs\\Python\\Python311\\Lib\\doctest.py\", line 1351, in __run\n",
      "                    exec(compile(example.source, filename, \"single\",\n",
      "                  File \"<doctest q1_2 1[0]>\", line 1, in <module>\n",
      "                    all(standard_array == np.sort(standard_array))\n",
      "                                          ^^^^^^^^^^^^^^^^^^^^^^^\n",
      "                  File \"c:\\Users\\sinhd\\AppData\\Local\\Programs\\Python\\Python311\\Lib\\site-packages\\numpy\\core\\fromnumeric.py\", line 1017, in sort\n",
      "                    a.sort(axis=axis, kind=kind, order=order)\n",
      "                numpy.exceptions.AxisError: axis -1 is out of bounds for array of dimension 0\n",
      "\n",
      "        q1_2 - 3 result:\n",
      "            ❌ Test case failed\n",
      "            Trying:\n",
      "                1 <= standard_array.item(0) <= 5\n",
      "            Expecting:\n",
      "                True\n",
      "            **********************************************************************\n",
      "            Line 2, in q1_2 2\n",
      "            Failed example:\n",
      "                1 <= standard_array.item(0) <= 5\n",
      "            Exception raised:\n",
      "                Traceback (most recent call last):\n",
      "                  File \"c:\\Users\\sinhd\\AppData\\Local\\Programs\\Python\\Python311\\Lib\\doctest.py\", line 1351, in __run\n",
      "                    exec(compile(example.source, filename, \"single\",\n",
      "                  File \"<doctest q1_2 2[0]>\", line 1, in <module>\n",
      "                    1 <= standard_array.item(0) <= 5\n",
      "                         ^^^^^^^^^^^^^^^^^^^\n",
      "                AttributeError: 'ellipsis' object has no attribute 'item'\n",
      "\n",
      "    q1_3 results:\n",
      "        q1_3 - 1 result:\n",
      "            ❌ Test case failed\n",
      "            Trying:\n",
      "                np.isclose(correlation([1,2,3], [4,5,6]), 0.9999999999999999)\n",
      "            Expecting:\n",
      "                True\n",
      "            **********************************************************************\n",
      "            Line 1, in q1_3 0\n",
      "            Failed example:\n",
      "                np.isclose(correlation([1,2,3], [4,5,6]), 0.9999999999999999)\n",
      "            Exception raised:\n",
      "                Traceback (most recent call last):\n",
      "                  File \"c:\\Users\\sinhd\\AppData\\Local\\Programs\\Python\\Python311\\Lib\\doctest.py\", line 1351, in __run\n",
      "                    exec(compile(example.source, filename, \"single\",\n",
      "                  File \"<doctest q1_3 0[0]>\", line 1, in <module>\n",
      "                    np.isclose(correlation([1,2,3], [4,5,6]), 0.9999999999999999)\n",
      "                  File \"c:\\Users\\sinhd\\AppData\\Local\\Programs\\Python\\Python311\\Lib\\site-packages\\numpy\\core\\numeric.py\", line 2348, in isclose\n",
      "                    xfin = isfinite(x)\n",
      "                           ^^^^^^^^^^^\n",
      "                TypeError: ufunc 'isfinite' not supported for the input types, and the inputs could not be safely coerced to any supported types according to the casting rule ''safe''\n",
      "\n",
      "    q1_4 results:\n",
      "        q1_4 - 1 result:\n",
      "            ❌ Test case failed\n",
      "            Trying:\n",
      "                import numpy as np\n",
      "            Expecting nothing\n",
      "            ok\n",
      "            Trying:\n",
      "                type(r_array) == np.ndarray\n",
      "            Expecting:\n",
      "                True\n",
      "            **********************************************************************\n",
      "            Line 3, in q1_4 0\n",
      "            Failed example:\n",
      "                type(r_array) == np.ndarray\n",
      "            Expected:\n",
      "                True\n",
      "            Got:\n",
      "                False\n",
      "\n",
      "        q1_4 - 2 result:\n",
      "            ❌ Test case failed\n",
      "            Trying:\n",
      "                all(r_array == np.sort(r_array))\n",
      "            Expecting:\n",
      "                True\n",
      "            **********************************************************************\n",
      "            Line 2, in q1_4 1\n",
      "            Failed example:\n",
      "                all(r_array == np.sort(r_array))\n",
      "            Exception raised:\n",
      "                Traceback (most recent call last):\n",
      "                  File \"c:\\Users\\sinhd\\AppData\\Local\\Programs\\Python\\Python311\\Lib\\doctest.py\", line 1351, in __run\n",
      "                    exec(compile(example.source, filename, \"single\",\n",
      "                  File \"<doctest q1_4 1[0]>\", line 1, in <module>\n",
      "                    all(r_array == np.sort(r_array))\n",
      "                                   ^^^^^^^^^^^^^^^^\n",
      "                  File \"c:\\Users\\sinhd\\AppData\\Local\\Programs\\Python\\Python311\\Lib\\site-packages\\numpy\\core\\fromnumeric.py\", line 1017, in sort\n",
      "                    a.sort(axis=axis, kind=kind, order=order)\n",
      "                numpy.exceptions.AxisError: axis -1 is out of bounds for array of dimension 0\n",
      "\n",
      "        q1_4 - 3 result:\n",
      "            ❌ Test case failed\n",
      "            Trying:\n",
      "                1 <= r_array.item(0) <= 5\n",
      "            Expecting:\n",
      "                True\n",
      "            **********************************************************************\n",
      "            Line 2, in q1_4 2\n",
      "            Failed example:\n",
      "                1 <= r_array.item(0) <= 5\n",
      "            Exception raised:\n",
      "                Traceback (most recent call last):\n",
      "                  File \"c:\\Users\\sinhd\\AppData\\Local\\Programs\\Python\\Python311\\Lib\\doctest.py\", line 1351, in __run\n",
      "                    exec(compile(example.source, filename, \"single\",\n",
      "                  File \"<doctest q1_4 2[0]>\", line 1, in <module>\n",
      "                    1 <= r_array.item(0) <= 5\n",
      "                         ^^^^^^^^^^^^\n",
      "                AttributeError: 'ellipsis' object has no attribute 'item'\n",
      "\n",
      "    q1_5 results:\n",
      "        q1_5 - 1 result:\n",
      "            ❌ Test case failed\n",
      "            Trying:\n",
      "                np.isclose(slope([1, 2], [1, 2]), 1.0)\n",
      "            Expecting:\n",
      "                True\n",
      "            **********************************************************************\n",
      "            Line 2, in q1_5 0\n",
      "            Failed example:\n",
      "                np.isclose(slope([1, 2], [1, 2]), 1.0)\n",
      "            Exception raised:\n",
      "                Traceback (most recent call last):\n",
      "                  File \"c:\\Users\\sinhd\\AppData\\Local\\Programs\\Python\\Python311\\Lib\\doctest.py\", line 1351, in __run\n",
      "                    exec(compile(example.source, filename, \"single\",\n",
      "                  File \"<doctest q1_5 0[0]>\", line 1, in <module>\n",
      "                    np.isclose(slope([1, 2], [1, 2]), 1.0)\n",
      "                  File \"c:\\Users\\sinhd\\AppData\\Local\\Programs\\Python\\Python311\\Lib\\site-packages\\numpy\\core\\numeric.py\", line 2348, in isclose\n",
      "                    xfin = isfinite(x)\n",
      "                           ^^^^^^^^^^^\n",
      "                TypeError: ufunc 'isfinite' not supported for the input types, and the inputs could not be safely coerced to any supported types according to the casting rule ''safe''\n",
      "\n",
      "    q1_6 results:\n",
      "        q1_6 - 1 result:\n",
      "            ❌ Test case failed\n",
      "            Trying:\n",
      "                import numpy as np\n",
      "            Expecting nothing\n",
      "            ok\n",
      "            Trying:\n",
      "                type(slope_array) == np.ndarray\n",
      "            Expecting:\n",
      "                True\n",
      "            **********************************************************************\n",
      "            Line 3, in q1_6 0\n",
      "            Failed example:\n",
      "                type(slope_array) == np.ndarray\n",
      "            Expected:\n",
      "                True\n",
      "            Got:\n",
      "                False\n",
      "\n",
      "        q1_6 - 2 result:\n",
      "            ❌ Test case failed\n",
      "            Trying:\n",
      "                all(slope_array == np.sort(slope_array))\n",
      "            Expecting:\n",
      "                True\n",
      "            **********************************************************************\n",
      "            Line 2, in q1_6 1\n",
      "            Failed example:\n",
      "                all(slope_array == np.sort(slope_array))\n",
      "            Exception raised:\n",
      "                Traceback (most recent call last):\n",
      "                  File \"c:\\Users\\sinhd\\AppData\\Local\\Programs\\Python\\Python311\\Lib\\doctest.py\", line 1351, in __run\n",
      "                    exec(compile(example.source, filename, \"single\",\n",
      "                  File \"<doctest q1_6 1[0]>\", line 1, in <module>\n",
      "                    all(slope_array == np.sort(slope_array))\n",
      "                                       ^^^^^^^^^^^^^^^^^^^^\n",
      "                  File \"c:\\Users\\sinhd\\AppData\\Local\\Programs\\Python\\Python311\\Lib\\site-packages\\numpy\\core\\fromnumeric.py\", line 1017, in sort\n",
      "                    a.sort(axis=axis, kind=kind, order=order)\n",
      "                numpy.exceptions.AxisError: axis -1 is out of bounds for array of dimension 0\n",
      "\n",
      "        q1_6 - 3 result:\n",
      "            ❌ Test case failed\n",
      "            Trying:\n",
      "                1 <= slope_array.item(0) <= 5\n",
      "            Expecting:\n",
      "                True\n",
      "            **********************************************************************\n",
      "            Line 2, in q1_6 2\n",
      "            Failed example:\n",
      "                1 <= slope_array.item(0) <= 5\n",
      "            Exception raised:\n",
      "                Traceback (most recent call last):\n",
      "                  File \"c:\\Users\\sinhd\\AppData\\Local\\Programs\\Python\\Python311\\Lib\\doctest.py\", line 1351, in __run\n",
      "                    exec(compile(example.source, filename, \"single\",\n",
      "                  File \"<doctest q1_6 2[0]>\", line 1, in <module>\n",
      "                    1 <= slope_array.item(0) <= 5\n",
      "                         ^^^^^^^^^^^^^^^^\n",
      "                AttributeError: 'ellipsis' object has no attribute 'item'\n",
      "\n",
      "    q1_7 results:\n",
      "        q1_7 - 1 result:\n",
      "            ❌ Test case failed\n",
      "            Trying:\n",
      "                np.isclose(intercept([1, 2], [1, 2]), 0.0)\n",
      "            Expecting:\n",
      "                True\n",
      "            **********************************************************************\n",
      "            Line 2, in q1_7 0\n",
      "            Failed example:\n",
      "                np.isclose(intercept([1, 2], [1, 2]), 0.0)\n",
      "            Exception raised:\n",
      "                Traceback (most recent call last):\n",
      "                  File \"c:\\Users\\sinhd\\AppData\\Local\\Programs\\Python\\Python311\\Lib\\doctest.py\", line 1351, in __run\n",
      "                    exec(compile(example.source, filename, \"single\",\n",
      "                  File \"<doctest q1_7 0[0]>\", line 1, in <module>\n",
      "                    np.isclose(intercept([1, 2], [1, 2]), 0.0)\n",
      "                  File \"c:\\Users\\sinhd\\AppData\\Local\\Programs\\Python\\Python311\\Lib\\site-packages\\numpy\\core\\numeric.py\", line 2348, in isclose\n",
      "                    xfin = isfinite(x)\n",
      "                           ^^^^^^^^^^^\n",
      "                TypeError: ufunc 'isfinite' not supported for the input types, and the inputs could not be safely coerced to any supported types according to the casting rule ''safe''\n",
      "\n",
      "    q1_8 results:\n",
      "        q1_8 - 1 result:\n",
      "            ❌ Test case failed\n",
      "            Trying:\n",
      "                import numpy as np\n",
      "            Expecting nothing\n",
      "            ok\n",
      "            Trying:\n",
      "                type(intercept_array) == np.ndarray\n",
      "            Expecting:\n",
      "                True\n",
      "            **********************************************************************\n",
      "            Line 3, in q1_8 0\n",
      "            Failed example:\n",
      "                type(intercept_array) == np.ndarray\n",
      "            Expected:\n",
      "                True\n",
      "            Got:\n",
      "                False\n",
      "\n",
      "        q1_8 - 2 result:\n",
      "            ❌ Test case failed\n",
      "            Trying:\n",
      "                all(intercept_array == np.sort(intercept_array))\n",
      "            Expecting:\n",
      "                True\n",
      "            **********************************************************************\n",
      "            Line 2, in q1_8 1\n",
      "            Failed example:\n",
      "                all(intercept_array == np.sort(intercept_array))\n",
      "            Exception raised:\n",
      "                Traceback (most recent call last):\n",
      "                  File \"c:\\Users\\sinhd\\AppData\\Local\\Programs\\Python\\Python311\\Lib\\doctest.py\", line 1351, in __run\n",
      "                    exec(compile(example.source, filename, \"single\",\n",
      "                  File \"<doctest q1_8 1[0]>\", line 1, in <module>\n",
      "                    all(intercept_array == np.sort(intercept_array))\n",
      "                                           ^^^^^^^^^^^^^^^^^^^^^^^^\n",
      "                  File \"c:\\Users\\sinhd\\AppData\\Local\\Programs\\Python\\Python311\\Lib\\site-packages\\numpy\\core\\fromnumeric.py\", line 1017, in sort\n",
      "                    a.sort(axis=axis, kind=kind, order=order)\n",
      "                numpy.exceptions.AxisError: axis -1 is out of bounds for array of dimension 0\n",
      "\n",
      "        q1_8 - 3 result:\n",
      "            ❌ Test case failed\n",
      "            Trying:\n",
      "                1 <= intercept_array.item(0) <= 5\n",
      "            Expecting:\n",
      "                True\n",
      "            **********************************************************************\n",
      "            Line 2, in q1_8 2\n",
      "            Failed example:\n",
      "                1 <= intercept_array.item(0) <= 5\n",
      "            Exception raised:\n",
      "                Traceback (most recent call last):\n",
      "                  File \"c:\\Users\\sinhd\\AppData\\Local\\Programs\\Python\\Python311\\Lib\\doctest.py\", line 1351, in __run\n",
      "                    exec(compile(example.source, filename, \"single\",\n",
      "                  File \"<doctest q1_8 2[0]>\", line 1, in <module>\n",
      "                    1 <= intercept_array.item(0) <= 5\n",
      "                         ^^^^^^^^^^^^^^^^^^^^\n",
      "                AttributeError: 'ellipsis' object has no attribute 'item'\n",
      "\n",
      "    q1_9 results:\n",
      "        q1_9 - 1 result:\n",
      "            ❌ Test case failed\n",
      "            Trying:\n",
      "                test_table = Table().with_columns('x', make_array(1, 2, 4), 'y', make_array(4, 5, 6))\n",
      "            Expecting nothing\n",
      "            ok\n",
      "            Trying:\n",
      "                np.all(np.isclose(predict(test_table, 'x', 'y'), make_array(4.14285714, 4.78571429, 6.07142857)))\n",
      "            Expecting:\n",
      "                True\n",
      "            **********************************************************************\n",
      "            Line 2, in q1_9 0\n",
      "            Failed example:\n",
      "                np.all(np.isclose(predict(test_table, 'x', 'y'), make_array(4.14285714, 4.78571429, 6.07142857)))\n",
      "            Exception raised:\n",
      "                Traceback (most recent call last):\n",
      "                  File \"c:\\Users\\sinhd\\AppData\\Local\\Programs\\Python\\Python311\\Lib\\doctest.py\", line 1351, in __run\n",
      "                    exec(compile(example.source, filename, \"single\",\n",
      "                  File \"<doctest q1_9 0[1]>\", line 1, in <module>\n",
      "                    np.all(np.isclose(predict(test_table, 'x', 'y'), make_array(4.14285714, 4.78571429, 6.07142857)))\n",
      "                           ^^^^^^^^^^^^^^^^^^^^^^^^^^^^^^^^^^^^^^^^^^^^^^^^^^^^^^^^^^^^^^^^^^^^^^^^^^^^^^^^^^^^^^^^^\n",
      "                  File \"c:\\Users\\sinhd\\AppData\\Local\\Programs\\Python\\Python311\\Lib\\site-packages\\numpy\\core\\numeric.py\", line 2348, in isclose\n",
      "                    xfin = isfinite(x)\n",
      "                           ^^^^^^^^^^^\n",
      "                TypeError: ufunc 'isfinite' not supported for the input types, and the inputs could not be safely coerced to any supported types according to the casting rule ''safe''\n",
      "\n",
      "        q1_9 - 2 result:\n",
      "            ❌ Test case failed\n",
      "            Trying:\n",
      "                test_table_2 = Table().with_columns('x', make_array(-1, -3, -5), 'y', make_array(0, 3, 4))\n",
      "            Expecting nothing\n",
      "            ok\n",
      "            Trying:\n",
      "                np.all(np.isclose(predict(test_table_2, 'x', 'y'), make_array(0.33333333, 2.33333333, 4.33333333)))\n",
      "            Expecting:\n",
      "                True\n",
      "            **********************************************************************\n",
      "            Line 2, in q1_9 1\n",
      "            Failed example:\n",
      "                np.all(np.isclose(predict(test_table_2, 'x', 'y'), make_array(0.33333333, 2.33333333, 4.33333333)))\n",
      "            Exception raised:\n",
      "                Traceback (most recent call last):\n",
      "                  File \"c:\\Users\\sinhd\\AppData\\Local\\Programs\\Python\\Python311\\Lib\\doctest.py\", line 1351, in __run\n",
      "                    exec(compile(example.source, filename, \"single\",\n",
      "                  File \"<doctest q1_9 1[1]>\", line 1, in <module>\n",
      "                    np.all(np.isclose(predict(test_table_2, 'x', 'y'), make_array(0.33333333, 2.33333333, 4.33333333)))\n",
      "                           ^^^^^^^^^^^^^^^^^^^^^^^^^^^^^^^^^^^^^^^^^^^^^^^^^^^^^^^^^^^^^^^^^^^^^^^^^^^^^^^^^^^^^^^^^^^\n",
      "                  File \"c:\\Users\\sinhd\\AppData\\Local\\Programs\\Python\\Python311\\Lib\\site-packages\\numpy\\core\\numeric.py\", line 2348, in isclose\n",
      "                    xfin = isfinite(x)\n",
      "                           ^^^^^^^^^^^\n",
      "                TypeError: ufunc 'isfinite' not supported for the input types, and the inputs could not be safely coerced to any supported types according to the casting rule ''safe''\n",
      "\n",
      "    q2_2 results:\n",
      "        q2_2 - 1 result:\n",
      "            ❌ Test case failed\n",
      "            Trying:\n",
      "                r_guess == 0 or r_guess == 0.75 or r_guess == -0.75\n",
      "            Expecting:\n",
      "                True\n",
      "            **********************************************************************\n",
      "            Line 2, in q2_2 0\n",
      "            Failed example:\n",
      "                r_guess == 0 or r_guess == 0.75 or r_guess == -0.75\n",
      "            Expected:\n",
      "                True\n",
      "            Got:\n",
      "                False\n",
      "\n",
      "    q2_7 results:\n",
      "        q2_7 - 1 result:\n",
      "            ❌ Test case failed\n",
      "            Trying:\n",
      "                import numpy as np\n",
      "            Expecting nothing\n",
      "            ok\n",
      "            Trying:\n",
      "                type(rmse(1, 2)) == np.float64 or type(rmse(1, 2)) == float\n",
      "            Expecting:\n",
      "                True\n",
      "            **********************************************************************\n",
      "            Line 3, in q2_7 0\n",
      "            Failed example:\n",
      "                type(rmse(1, 2)) == np.float64 or type(rmse(1, 2)) == float\n",
      "            Expected:\n",
      "                True\n",
      "            Got:\n",
      "                False\n",
      "\n",
      "    q2_10 results:\n",
      "        q2_10 - 1 result:\n",
      "            ❌ Test case failed\n",
      "            Trying:\n",
      "                import numpy as np\n",
      "            Expecting nothing\n",
      "            ok\n",
      "            Trying:\n",
      "                type(error_array) == np.ndarray\n",
      "            Expecting:\n",
      "                True\n",
      "            **********************************************************************\n",
      "            Line 3, in q2_10 0\n",
      "            Failed example:\n",
      "                type(error_array) == np.ndarray\n",
      "            Expected:\n",
      "                True\n",
      "            Got:\n",
      "                False\n",
      "\n",
      "        q2_10 - 2 result:\n",
      "            ❌ Test case failed\n",
      "            Trying:\n",
      "                all(error_array == np.sort(error_array))\n",
      "            Expecting:\n",
      "                True\n",
      "            **********************************************************************\n",
      "            Line 2, in q2_10 1\n",
      "            Failed example:\n",
      "                all(error_array == np.sort(error_array))\n",
      "            Exception raised:\n",
      "                Traceback (most recent call last):\n",
      "                  File \"c:\\Users\\sinhd\\AppData\\Local\\Programs\\Python\\Python311\\Lib\\doctest.py\", line 1351, in __run\n",
      "                    exec(compile(example.source, filename, \"single\",\n",
      "                  File \"<doctest q2_10 1[0]>\", line 1, in <module>\n",
      "                    all(error_array == np.sort(error_array))\n",
      "                                       ^^^^^^^^^^^^^^^^^^^^\n",
      "                  File \"c:\\Users\\sinhd\\AppData\\Local\\Programs\\Python\\Python311\\Lib\\site-packages\\numpy\\core\\fromnumeric.py\", line 1017, in sort\n",
      "                    a.sort(axis=axis, kind=kind, order=order)\n",
      "                numpy.exceptions.AxisError: axis -1 is out of bounds for array of dimension 0\n",
      "\n",
      "        q2_10 - 3 result:\n",
      "            ❌ Test case failed\n",
      "            Trying:\n",
      "                1 <= error_array.item(0) <= 5\n",
      "            Expecting:\n",
      "                True\n",
      "            **********************************************************************\n",
      "            Line 2, in q2_10 2\n",
      "            Failed example:\n",
      "                1 <= error_array.item(0) <= 5\n",
      "            Exception raised:\n",
      "                Traceback (most recent call last):\n",
      "                  File \"c:\\Users\\sinhd\\AppData\\Local\\Programs\\Python\\Python311\\Lib\\doctest.py\", line 1351, in __run\n",
      "                    exec(compile(example.source, filename, \"single\",\n",
      "                  File \"<doctest q2_10 2[0]>\", line 1, in <module>\n",
      "                    1 <= error_array.item(0) <= 5\n",
      "                         ^^^^^^^^^^^^^^^^\n",
      "                AttributeError: 'ellipsis' object has no attribute 'item'\n",
      "\n",
      "    q2_11 results:\n",
      "        q2_11 - 1 result:\n",
      "            ❌ Test case failed\n",
      "            Trying:\n",
      "                import numpy as np\n",
      "            Expecting nothing\n",
      "            ok\n",
      "            Trying:\n",
      "                type(scoring_array) == np.ndarray\n",
      "            Expecting:\n",
      "                True\n",
      "            **********************************************************************\n",
      "            Line 3, in q2_11 0\n",
      "            Failed example:\n",
      "                type(scoring_array) == np.ndarray\n",
      "            Expected:\n",
      "                True\n",
      "            Got:\n",
      "                False\n",
      "\n",
      "        q2_11 - 2 result:\n",
      "            ❌ Test case failed\n",
      "            Trying:\n",
      "                all(scoring_array == np.sort(scoring_array))\n",
      "            Expecting:\n",
      "                True\n",
      "            **********************************************************************\n",
      "            Line 2, in q2_11 1\n",
      "            Failed example:\n",
      "                all(scoring_array == np.sort(scoring_array))\n",
      "            Exception raised:\n",
      "                Traceback (most recent call last):\n",
      "                  File \"c:\\Users\\sinhd\\AppData\\Local\\Programs\\Python\\Python311\\Lib\\doctest.py\", line 1351, in __run\n",
      "                    exec(compile(example.source, filename, \"single\",\n",
      "                  File \"<doctest q2_11 1[0]>\", line 1, in <module>\n",
      "                    all(scoring_array == np.sort(scoring_array))\n",
      "                                         ^^^^^^^^^^^^^^^^^^^^^^\n",
      "                  File \"c:\\Users\\sinhd\\AppData\\Local\\Programs\\Python\\Python311\\Lib\\site-packages\\numpy\\core\\fromnumeric.py\", line 1017, in sort\n",
      "                    a.sort(axis=axis, kind=kind, order=order)\n",
      "                numpy.exceptions.AxisError: axis -1 is out of bounds for array of dimension 0\n",
      "\n",
      "        q2_11 - 3 result:\n",
      "            ❌ Test case failed\n",
      "            Trying:\n",
      "                1 <= scoring_array.item(0) <= 4\n",
      "            Expecting:\n",
      "                True\n",
      "            **********************************************************************\n",
      "            Line 2, in q2_11 2\n",
      "            Failed example:\n",
      "                1 <= scoring_array.item(0) <= 4\n",
      "            Exception raised:\n",
      "                Traceback (most recent call last):\n",
      "                  File \"c:\\Users\\sinhd\\AppData\\Local\\Programs\\Python\\Python311\\Lib\\doctest.py\", line 1351, in __run\n",
      "                    exec(compile(example.source, filename, \"single\",\n",
      "                  File \"<doctest q2_11 2[0]>\", line 1, in <module>\n",
      "                    1 <= scoring_array.item(0) <= 4\n",
      "                         ^^^^^^^^^^^^^^^^^^\n",
      "                AttributeError: 'ellipsis' object has no attribute 'item'\n"
     ]
    },
    {
     "data": {
      "text/html": [
       "\n",
       "                    <p>\n",
       "                        Your submission has been exported. Click\n",
       "                        <a href=\"hw10_2025_04_22T11_08_54_415076.zip\" download=\"hw10_2025_04_22T11_08_54_415076.zip\" target=\"_blank\">here</a> to download\n",
       "                        the zip file.\n",
       "                    </p>\n",
       "                "
      ],
      "text/plain": [
       "<IPython.core.display.HTML object>"
      ]
     },
     "metadata": {},
     "output_type": "display_data"
    }
   ],
   "source": [
    "# Save your notebook first, then run this cell to export your submission.\n",
    "grader.export(pdf=False, run_tests=True)"
   ]
  },
  {
   "cell_type": "markdown",
   "id": "0e9e205e",
   "metadata": {},
   "source": [
    " "
   ]
  }
 ],
 "metadata": {
  "kernelspec": {
   "display_name": "Python 3",
   "language": "python",
   "name": "python3"
  },
  "language_info": {
   "codemirror_mode": {
    "name": "ipython",
    "version": 3
   },
   "file_extension": ".py",
   "mimetype": "text/x-python",
   "name": "python",
   "nbconvert_exporter": "python",
   "pygments_lexer": "ipython3",
   "version": "3.11.5"
  },
  "otter": {
   "OK_FORMAT": true,
   "tests": {
    "q1_1": {
     "name": "q1_1",
     "points": [
      0,
      0,
      0
     ],
     "suites": [
      {
       "cases": [
        {
         "code": ">>> standard_units([1,2,3,4,5])\narray([-1.41421356, -0.70710678,  0.        ,  0.70710678,  1.41421356])",
         "hidden": false,
         "locked": false
        },
        {
         "code": ">>> np.isclose(np.mean(standard_units([1,2,3,4,5])), 0)\nTrue",
         "hidden": false,
         "locked": false
        },
        {
         "code": ">>> np.isclose(np.std(standard_units([1,2,3,4,5])), 0.9999999999999999)\nTrue",
         "hidden": false,
         "locked": false
        }
       ],
       "scored": true,
       "setup": "",
       "teardown": "",
       "type": "doctest"
      }
     ]
    },
    "q1_2": {
     "name": "q1_2",
     "points": [
      0,
      0,
      0
     ],
     "suites": [
      {
       "cases": [
        {
         "code": ">>> # Make sure standard_array is an array.\n>>> import numpy as np\n>>> type(standard_array) == np.ndarray\nTrue",
         "hidden": false,
         "locked": false
        },
        {
         "code": ">>> # Make sure array is in order\n>>> all(standard_array == np.sort(standard_array))\nTrue",
         "hidden": false,
         "locked": false
        },
        {
         "code": ">>> # Make sure you have set standard_array to an array with at least 1 number\n>>> 1 <= standard_array.item(0) <= 5\nTrue",
         "hidden": false,
         "locked": false
        }
       ],
       "scored": true,
       "setup": "",
       "teardown": "",
       "type": "doctest"
      }
     ]
    },
    "q1_3": {
     "name": "q1_3",
     "points": [
      0
     ],
     "suites": [
      {
       "cases": [
        {
         "code": ">>> np.isclose(correlation([1,2,3], [4,5,6]), 0.9999999999999999)\nTrue",
         "hidden": false,
         "locked": false
        }
       ],
       "scored": true,
       "setup": "",
       "teardown": "",
       "type": "doctest"
      }
     ]
    },
    "q1_4": {
     "name": "q1_4",
     "points": [
      0,
      0,
      0
     ],
     "suites": [
      {
       "cases": [
        {
         "code": ">>> # Make sure r_array is an array.\n>>> import numpy as np\n>>> type(r_array) == np.ndarray\nTrue",
         "hidden": false,
         "locked": false
        },
        {
         "code": ">>> # Make sure array is in order\n>>> all(r_array == np.sort(r_array))\nTrue",
         "hidden": false,
         "locked": false
        },
        {
         "code": ">>> # Make sure you have set r_array to an array with at least 1 number\n>>> 1 <= r_array.item(0) <= 5\nTrue",
         "hidden": false,
         "locked": false
        }
       ],
       "scored": true,
       "setup": "",
       "teardown": "",
       "type": "doctest"
      }
     ]
    },
    "q1_5": {
     "name": "q1_5",
     "points": [
      0
     ],
     "suites": [
      {
       "cases": [
        {
         "code": ">>> # The slope of a line going through (1,1) and (2,2) should be 1.\n>>> np.isclose(slope([1, 2], [1, 2]), 1.0)\nTrue",
         "hidden": false,
         "locked": false
        }
       ],
       "scored": true,
       "setup": "",
       "teardown": "",
       "type": "doctest"
      }
     ]
    },
    "q1_6": {
     "name": "q1_6",
     "points": [
      0,
      0,
      0
     ],
     "suites": [
      {
       "cases": [
        {
         "code": ">>> # Make sure slope_array is an array.\n>>> import numpy as np\n>>> type(slope_array) == np.ndarray\nTrue",
         "hidden": false,
         "locked": false
        },
        {
         "code": ">>> # Make sure array is in order\n>>> all(slope_array == np.sort(slope_array))\nTrue",
         "hidden": false,
         "locked": false
        },
        {
         "code": ">>> # Make sure you have set slope_array to an array with at least 1 number\n>>> 1 <= slope_array.item(0) <= 5\nTrue",
         "hidden": false,
         "locked": false
        }
       ],
       "scored": true,
       "setup": "",
       "teardown": "",
       "type": "doctest"
      }
     ]
    },
    "q1_7": {
     "name": "q1_7",
     "points": [
      0
     ],
     "suites": [
      {
       "cases": [
        {
         "code": ">>> # The intercept of a line going through (1,1) and (2,2) should be 0.\n>>> np.isclose(intercept([1, 2], [1, 2]), 0.0)\nTrue",
         "hidden": false,
         "locked": false
        }
       ],
       "scored": true,
       "setup": "",
       "teardown": "",
       "type": "doctest"
      }
     ]
    },
    "q1_8": {
     "name": "q1_8",
     "points": [
      0,
      0,
      0
     ],
     "suites": [
      {
       "cases": [
        {
         "code": ">>> # Make sure intercept_array is an array.\n>>> import numpy as np\n>>> type(intercept_array) == np.ndarray\nTrue",
         "hidden": false,
         "locked": false
        },
        {
         "code": ">>> # Make sure array is in order\n>>> all(intercept_array == np.sort(intercept_array))\nTrue",
         "hidden": false,
         "locked": false
        },
        {
         "code": ">>> # Make sure you have set intercept_array to an array with at least 1 number\n>>> 1 <= intercept_array.item(0) <= 5\nTrue",
         "hidden": false,
         "locked": false
        }
       ],
       "scored": true,
       "setup": "",
       "teardown": "",
       "type": "doctest"
      }
     ]
    },
    "q1_9": {
     "name": "q1_9",
     "points": [
      2,
      3
     ],
     "suites": [
      {
       "cases": [
        {
         "code": ">>> test_table = Table().with_columns('x', make_array(1, 2, 4), 'y', make_array(4, 5, 6))\n>>> np.all(np.isclose(predict(test_table, 'x', 'y'), make_array(4.14285714, 4.78571429, 6.07142857)))\nTrue",
         "hidden": false,
         "locked": false
        },
        {
         "code": ">>> test_table_2 = Table().with_columns('x', make_array(-1, -3, -5), 'y', make_array(0, 3, 4))\n>>> np.all(np.isclose(predict(test_table_2, 'x', 'y'), make_array(0.33333333, 2.33333333, 4.33333333)))\nTrue",
         "hidden": false,
         "locked": false
        }
       ],
       "scored": true,
       "setup": "",
       "teardown": "",
       "type": "doctest"
      }
     ]
    },
    "q2_10": {
     "name": "q2_10",
     "points": [
      0,
      0,
      0
     ],
     "suites": [
      {
       "cases": [
        {
         "code": ">>> # Make sure error_array is an array.\n>>> import numpy as np\n>>> type(error_array) == np.ndarray\nTrue",
         "hidden": false,
         "locked": false
        },
        {
         "code": ">>> # Make sure array is in order\n>>> all(error_array == np.sort(error_array))\nTrue",
         "hidden": false,
         "locked": false
        },
        {
         "code": ">>> # Make sure you have set error_array to an array with at least 1 number\n>>> 1 <= error_array.item(0) <= 5\nTrue",
         "hidden": false,
         "locked": false
        }
       ],
       "scored": true,
       "setup": "",
       "teardown": "",
       "type": "doctest"
      }
     ]
    },
    "q2_11": {
     "name": "q2_11",
     "points": [
      0,
      0,
      0
     ],
     "suites": [
      {
       "cases": [
        {
         "code": ">>> # Make sure scoring_array is an array.\n>>> import numpy as np\n>>> type(scoring_array) == np.ndarray\nTrue",
         "hidden": false,
         "locked": false
        },
        {
         "code": ">>> # Make sure array is in order\n>>> all(scoring_array == np.sort(scoring_array))\nTrue",
         "hidden": false,
         "locked": false
        },
        {
         "code": ">>> # Make sure you have set scoring_array to an array with at least 1 number\n>>> 1 <= scoring_array.item(0) <= 4\nTrue",
         "hidden": false,
         "locked": false
        }
       ],
       "scored": true,
       "setup": "",
       "teardown": "",
       "type": "doctest"
      }
     ]
    },
    "q2_2": {
     "name": "q2_2",
     "points": [
      0
     ],
     "suites": [
      {
       "cases": [
        {
         "code": ">>> # Make sure r_guess is one of the 3 options.\n>>> r_guess == 0 or r_guess == 0.75 or r_guess == -0.75\nTrue",
         "hidden": false,
         "locked": false
        }
       ],
       "scored": true,
       "setup": "",
       "teardown": "",
       "type": "doctest"
      }
     ]
    },
    "q2_7": {
     "name": "q2_7",
     "points": [
      0
     ],
     "suites": [
      {
       "cases": [
        {
         "code": ">>> # Make sure your function returns the value you computed for the RMSE.\n>>> import numpy as np\n>>> type(rmse(1, 2)) == np.float64 or type(rmse(1, 2)) == float\nTrue",
         "hidden": false,
         "locked": false
        }
       ],
       "scored": true,
       "setup": "",
       "teardown": "",
       "type": "doctest"
      }
     ]
    }
   }
  }
 },
 "nbformat": 4,
 "nbformat_minor": 5
}
